{
  "cells": [
    {
      "cell_type": "markdown",
      "metadata": {
        "id": "view-in-github",
        "colab_type": "text"
      },
      "source": [
        "<a href=\"https://colab.research.google.com/github/juanmadeira/pytorch/blob/main/01_pytorch_workflow.ipynb\" target=\"_parent\"><img src=\"https://colab.research.google.com/assets/colab-badge.svg\" alt=\"Open In Colab\"/></a>"
      ]
    },
    {
      "cell_type": "markdown",
      "metadata": {
        "id": "3cxcY17Hcrg0"
      },
      "source": [
        "# 01. [PyTorch Workflow](https://www.learnpytorch.io/01_pytorch_workflow/)"
      ]
    },
    {
      "cell_type": "code",
      "execution_count": 187,
      "metadata": {
        "id": "TJYnNaFh1NH0"
      },
      "outputs": [],
      "source": [
        "workflow = {1: \"data (prepare and load)\",\n",
        "            2: \"build model\",\n",
        "            3: \"fitting the model to data (training)\",\n",
        "            4: \"making predictions and evaluating a model (inference)\",\n",
        "            5: \"saving  and loading a model\",\n",
        "            6: \"putting it all together\"}"
      ]
    },
    {
      "cell_type": "code",
      "execution_count": 188,
      "metadata": {
        "colab": {
          "base_uri": "https://localhost:8080/",
          "height": 36
        },
        "id": "XQWnqq2B2Ble",
        "outputId": "9dd77066-0d60-498d-e9a3-1bad87786e9c"
      },
      "outputs": [
        {
          "output_type": "execute_result",
          "data": {
            "text/plain": [
              "'2.8.0+cu126'"
            ],
            "application/vnd.google.colaboratory.intrinsic+json": {
              "type": "string"
            }
          },
          "metadata": {},
          "execution_count": 188
        }
      ],
      "source": [
        "import torch\n",
        "from torch import nn # contains all of PyTorch's building blocks for neural networks\n",
        "import matplotlib.pyplot as plt\n",
        "import numpy as np\n",
        "\n",
        "torch.__version__"
      ]
    },
    {
      "cell_type": "markdown",
      "metadata": {
        "id": "AHc6iZI24nNz"
      },
      "source": [
        "# 1. Data (preparing and loading)\n",
        "* Excel spreadsheet\n",
        "* Images\n",
        "* Videos\n",
        "* Audios\n",
        "* DNA\n",
        "* Text\n",
        "\n",
        "1.1. Get data into numerical representation\\\n",
        "1.2. Build a model to learn patterns in that numerical representation\n",
        "\n",
        "> Linear Regression Formula\n",
        "```\n",
        "y = a + bx\n",
        "```\n",
        "y = dependent variable\\\n",
        "a = intercept (value of y when x = 0)\\\n",
        "x = explanatory (independent) variable"
      ]
    },
    {
      "cell_type": "code",
      "execution_count": 189,
      "metadata": {
        "colab": {
          "base_uri": "https://localhost:8080/"
        },
        "id": "RYVvdKlPkgIS",
        "outputId": "c4e10c34-a5d2-4701-c5bd-b54a1451e391"
      },
      "outputs": [
        {
          "output_type": "stream",
          "name": "stdout",
          "text": [
            "tensor([[0.0000],\n",
            "        [0.0200],\n",
            "        [0.0400],\n",
            "        [0.0600],\n",
            "        [0.0800],\n",
            "        [0.1000],\n",
            "        [0.1200],\n",
            "        [0.1400],\n",
            "        [0.1600],\n",
            "        [0.1800]]),\n",
            "\n",
            "tensor([[0.3000],\n",
            "        [0.3140],\n",
            "        [0.3280],\n",
            "        [0.3420],\n",
            "        [0.3560],\n",
            "        [0.3700],\n",
            "        [0.3840],\n",
            "        [0.3980],\n",
            "        [0.4120],\n",
            "        [0.4260]])\n",
            "\n",
            "len(X): 50, len(y): 50\n"
          ]
        }
      ],
      "source": [
        "weight = 0.7 # b\n",
        "bias = 0.3 # a\n",
        "\n",
        "start = 0\n",
        "end = 1\n",
        "step = 0.02\n",
        "X = torch.arange(start, end, step).unsqueeze(dim=1) # capital X typically is a matrix or a tensor (if lowercase represents a vector)\n",
        "y = weight * X + bias\n",
        "\n",
        "print(f\"{X[:10]},\\n\\n{y[:10]}\")\n",
        "print(f\"\\nlen(X): {len(X)}, len(y): {len(y)}\")"
      ]
    },
    {
      "cell_type": "markdown",
      "metadata": {
        "id": "f1A1-RfDmrue"
      },
      "source": [
        "## Splitting data into training and test sets"
      ]
    },
    {
      "cell_type": "code",
      "execution_count": 190,
      "metadata": {
        "colab": {
          "base_uri": "https://localhost:8080/"
        },
        "id": "C3UZ-oksphSz",
        "outputId": "bb9ef01b-087e-4ff6-dae8-d244b150c657"
      },
      "outputs": [
        {
          "output_type": "stream",
          "name": "stdout",
          "text": [
            "40 40 10 10\n",
            "\n",
            "tensor([[0.0000],\n",
            "        [0.0200],\n",
            "        [0.0400],\n",
            "        [0.0600],\n",
            "        [0.0800],\n",
            "        [0.1000],\n",
            "        [0.1200],\n",
            "        [0.1400],\n",
            "        [0.1600],\n",
            "        [0.1800],\n",
            "        [0.2000],\n",
            "        [0.2200],\n",
            "        [0.2400],\n",
            "        [0.2600],\n",
            "        [0.2800],\n",
            "        [0.3000],\n",
            "        [0.3200],\n",
            "        [0.3400],\n",
            "        [0.3600],\n",
            "        [0.3800],\n",
            "        [0.4000],\n",
            "        [0.4200],\n",
            "        [0.4400],\n",
            "        [0.4600],\n",
            "        [0.4800],\n",
            "        [0.5000],\n",
            "        [0.5200],\n",
            "        [0.5400],\n",
            "        [0.5600],\n",
            "        [0.5800],\n",
            "        [0.6000],\n",
            "        [0.6200],\n",
            "        [0.6400],\n",
            "        [0.6600],\n",
            "        [0.6800],\n",
            "        [0.7000],\n",
            "        [0.7200],\n",
            "        [0.7400],\n",
            "        [0.7600],\n",
            "        [0.7800]])\n",
            "\n",
            "tensor([[0.3000],\n",
            "        [0.3140],\n",
            "        [0.3280],\n",
            "        [0.3420],\n",
            "        [0.3560],\n",
            "        [0.3700],\n",
            "        [0.3840],\n",
            "        [0.3980],\n",
            "        [0.4120],\n",
            "        [0.4260],\n",
            "        [0.4400],\n",
            "        [0.4540],\n",
            "        [0.4680],\n",
            "        [0.4820],\n",
            "        [0.4960],\n",
            "        [0.5100],\n",
            "        [0.5240],\n",
            "        [0.5380],\n",
            "        [0.5520],\n",
            "        [0.5660],\n",
            "        [0.5800],\n",
            "        [0.5940],\n",
            "        [0.6080],\n",
            "        [0.6220],\n",
            "        [0.6360],\n",
            "        [0.6500],\n",
            "        [0.6640],\n",
            "        [0.6780],\n",
            "        [0.6920],\n",
            "        [0.7060],\n",
            "        [0.7200],\n",
            "        [0.7340],\n",
            "        [0.7480],\n",
            "        [0.7620],\n",
            "        [0.7760],\n",
            "        [0.7900],\n",
            "        [0.8040],\n",
            "        [0.8180],\n",
            "        [0.8320],\n",
            "        [0.8460]])\n"
          ]
        }
      ],
      "source": [
        "train_split = int(0.8 * len(X))\n",
        "X_train, y_train = X[:train_split], y[:train_split]\n",
        "X_test, y_test = X[train_split:], y[train_split:]\n",
        "\n",
        "print(len(X_train), len(y_train), len(X_test), len(y_test))\n",
        "print(f\"\\n{X_train}\\n\\n{y_train}\")"
      ]
    },
    {
      "cell_type": "code",
      "execution_count": 191,
      "metadata": {
        "colab": {
          "base_uri": "https://localhost:8080/",
          "height": 599
        },
        "id": "VkctJ8aAquhR",
        "outputId": "007ff3bc-42f0-4cb8-9a2c-85ea1e0888f7"
      },
      "outputs": [
        {
          "output_type": "display_data",
          "data": {
            "text/plain": [
              "<Figure size 1000x700 with 1 Axes>"
            ],
            "image/png": "[encoded data removed]"
          },
          "metadata": {}
        }
      ],
      "source": [
        "# how might we better visualize our data?\n",
        "def plot_predictions(train_data=X_train,\n",
        "                     train_labels=y_train,\n",
        "                     test_data=X_test,\n",
        "                     test_labels=y_test,\n",
        "                     predictions=None):\n",
        "\n",
        "    plt.figure(figsize=(10, 7)) # plots training data, test data and compares predictions\n",
        "    plt.scatter(train_data, train_labels, c=\"b\", s=4, label=\"Training data\") # plot training data in blue\n",
        "    plt.scatter(test_data, test_labels, c=\"g\", s=4, label=\"Testing data\") # plot training data in green\n",
        "\n",
        "    if predictions is not None:\n",
        "        plt.scatter(test_data, predictions, c=\"r\", s=4, label=\"Predictions\") # plot predictions in red (if they exist)\n",
        "\n",
        "    plt.legend(prop={\"size\": 14}) # show the legend\n",
        "\n",
        "plot_predictions()"
      ]
    },
    {
      "cell_type": "markdown",
      "metadata": {
        "id": "k45JXylQtWYv"
      },
      "source": [
        "# 2. Build a model\n",
        "To learn about [OOP in Python](https://realpython.com/python3-object-oriented-programming/).\n",
        "\n",
        "What our model does:\n",
        "* Start with random values\n",
        "* Look at training data and adjust the random values to better represent (or get closer to) the ideal values (the weight & bias values we used to create data)\n",
        "\n",
        "How does it do so?\n",
        "1. [Gradient descent](https://youtu.be/IHZwWFHWa-w)\n",
        "2. [Backpropagation](https://youtu.be/Ilg3gGewQ5U)"
      ]
    },
    {
      "cell_type": "code",
      "execution_count": 192,
      "metadata": {
        "id": "e31upi-Bt5O8"
      },
      "outputs": [],
      "source": [
        "# create linear regression model class\n",
        "class LinearRegressionModel(nn.Module):\n",
        "    def __init__(self):\n",
        "        super().__init__()\n",
        "        self.weight = nn.Parameter(torch.randn(1,\n",
        "                                                requires_grad=True,\n",
        "                                                dtype=torch.float))\n",
        "        self.bias = nn.Parameter(torch.randn(1,\n",
        "                                                requires_grad=True,\n",
        "                                                dtype=torch.float))\n",
        "\n",
        "    def forward(self, x: torch.Tensor) -> torch.Tensor: # x is the input data\n",
        "        return self.weight * x + self.bias # linear regression formula"
      ]
    },
    {
      "cell_type": "markdown",
      "source": [
        "## Model building essentials\n",
        "- `torch.nn` Contains all of the building blocks for computational graphs (a neural network can be considered a computational graph)\n",
        "\n",
        "- `torch.nn.Parameter` What parameters should our model try and learn, oftean a PyTorch layer from torch.nn will set these for us\n",
        "\n",
        "- `torch.nn.Module` The base class for all neural network modules, if you subclass it, you should overwrite forward()\n",
        "\n",
        "- `torch.optim` Where the optimizers in PyTorch live, they will help with gradient descent\n",
        "\n",
        "- `def forward()` All nn.Module subclasses require a forward() method, this defines the computation that will take place on the data passed to the particular nn.Module (e.g. the linear regression formula above)"
      ],
      "metadata": {
        "id": "7mgZhjUpLg8W"
      }
    },
    {
      "cell_type": "markdown",
      "source": [
        "## Checking contents of a PyTorch model\n",
        "\n",
        "`.parameters()`\n",
        "\n"
      ],
      "metadata": {
        "id": "pHCAEbYGlkSJ"
      }
    },
    {
      "cell_type": "code",
      "source": [
        "# create a random seed\n",
        "torch.manual_seed(42)\n",
        "\n",
        "# create an instance of the model\n",
        "model_0 = LinearRegressionModel()\n",
        "\n",
        "# check the parameters\n",
        "print(model_0, \"\\n\")\n",
        "print(model_0.parameters(), \"\\n\")\n",
        "print(list(model_0.parameters()))"
      ],
      "metadata": {
        "id": "gKhrniOGmIkH",
        "colab": {
          "base_uri": "https://localhost:8080/"
        },
        "outputId": "1feb44cc-474c-4bd1-99b4-1acdbb468009"
      },
      "execution_count": 193,
      "outputs": [
        {
          "output_type": "stream",
          "name": "stdout",
          "text": [
            "LinearRegressionModel() \n",
            "\n",
            "<generator object Module.parameters at 0x7f4632664120> \n",
            "\n",
            "[Parameter containing:\n",
            "tensor([0.3367], requires_grad=True), Parameter containing:\n",
            "tensor([0.1288], requires_grad=True)]\n"
          ]
        }
      ]
    },
    {
      "cell_type": "code",
      "source": [
        "# list named parameters\n",
        "print(model_0.state_dict(), \"\\n\")\n",
        "print(weight, bias)"
      ],
      "metadata": {
        "colab": {
          "base_uri": "https://localhost:8080/"
        },
        "id": "qBCMTv-BoXbg",
        "outputId": "a99e7324-b5c1-42ab-b492-eeac71f97189"
      },
      "execution_count": 194,
      "outputs": [
        {
          "output_type": "stream",
          "name": "stdout",
          "text": [
            "OrderedDict({'weight': tensor([0.3367]), 'bias': tensor([0.1288])}) \n",
            "\n",
            "0.7 0.3\n"
          ]
        }
      ]
    },
    {
      "cell_type": "markdown",
      "source": [
        "We would like our parameters to be as close as possible to the predefined ones...\n",
        "\n",
        "so...\n",
        "## Making predictions using `torch.inference_mode()`"
      ],
      "metadata": {
        "id": "TJ7rca3LpSJs"
      }
    },
    {
      "cell_type": "code",
      "source": [
        "X_test, y_test"
      ],
      "metadata": {
        "colab": {
          "base_uri": "https://localhost:8080/"
        },
        "id": "uZeP1WCsqGiw",
        "outputId": "0dee2e3f-66e1-45ee-cd3a-fd685288a204"
      },
      "execution_count": 195,
      "outputs": [
        {
          "output_type": "execute_result",
          "data": {
            "text/plain": [
              "(tensor([[0.8000],\n",
              "         [0.8200],\n",
              "         [0.8400],\n",
              "         [0.8600],\n",
              "         [0.8800],\n",
              "         [0.9000],\n",
              "         [0.9200],\n",
              "         [0.9400],\n",
              "         [0.9600],\n",
              "         [0.9800]]),\n",
              " tensor([[0.8600],\n",
              "         [0.8740],\n",
              "         [0.8880],\n",
              "         [0.9020],\n",
              "         [0.9160],\n",
              "         [0.9300],\n",
              "         [0.9440],\n",
              "         [0.9580],\n",
              "         [0.9720],\n",
              "         [0.9860]]))"
            ]
          },
          "metadata": {},
          "execution_count": 195
        }
      ]
    },
    {
      "cell_type": "code",
      "source": [
        "with torch.inference_mode():\n",
        "    y_preds = model_0(X_test)\n",
        "\n",
        "# also can be done similar with torch.no_grad() but torch.inference_mode() is preferred\n",
        "# with torch.no_grad():\n",
        "#     y_preds = model_0(X_test)\n",
        "\n",
        "y_preds"
      ],
      "metadata": {
        "colab": {
          "base_uri": "https://localhost:8080/"
        },
        "id": "EJDqNq_RqAzp",
        "outputId": "8685a433-7f4f-4758-a1fa-c77e7c1b339a"
      },
      "execution_count": 196,
      "outputs": [
        {
          "output_type": "execute_result",
          "data": {
            "text/plain": [
              "tensor([[0.3982],\n",
              "        [0.4049],\n",
              "        [0.4116],\n",
              "        [0.4184],\n",
              "        [0.4251],\n",
              "        [0.4318],\n",
              "        [0.4386],\n",
              "        [0.4453],\n",
              "        [0.4520],\n",
              "        [0.4588]])"
            ]
          },
          "metadata": {},
          "execution_count": 196
        }
      ]
    },
    {
      "cell_type": "code",
      "source": [
        "plot_predictions(predictions=y_preds)"
      ],
      "metadata": {
        "colab": {
          "base_uri": "https://localhost:8080/",
          "height": 599
        },
        "id": "oa7GUBxAq5t3",
        "outputId": "6c123922-00d5-4f39-cb66-8f27b421b82a"
      },
      "execution_count": 197,
      "outputs": [
        {
          "output_type": "display_data",
          "data": {
            "text/plain": [
              "<Figure size 1000x700 with 1 Axes>"
            ],
            "image/png": "[encoded data removed]"
          },
          "metadata": {}
        }
      ]
    },
    {
      "cell_type": "markdown",
      "source": [
        "# 3. Train a model\n",
        "Move from some unknown parameters (may be random) to some known parameters. In other words, poor representation of the data to a better representation\n",
        "\n",
        "One way to measure how poor or how wrong a model predictions are is to use a **loss function** (a. k. a. cost function or criterion in different areas),lower is better"
      ],
      "metadata": {
        "id": "HbzNnGxqYhXY"
      }
    },
    {
      "cell_type": "code",
      "source": [
        "list(model_0.parameters())\n",
        "model_0.state_dict()"
      ],
      "metadata": {
        "colab": {
          "base_uri": "https://localhost:8080/"
        },
        "id": "fkuxoqtrZkbd",
        "outputId": "d4f337db-258a-4774-b2bd-df6fe83cfdcb"
      },
      "execution_count": 198,
      "outputs": [
        {
          "output_type": "execute_result",
          "data": {
            "text/plain": [
              "OrderedDict([('weight', tensor([0.3367])), ('bias', tensor([0.1288]))])"
            ]
          },
          "metadata": {},
          "execution_count": 198
        }
      ]
    },
    {
      "cell_type": "code",
      "source": [
        "# setup a loss function\n",
        "loss_fn = nn.L1Loss() # MAE_loss is same as L1Loss\n",
        "\n",
        "# setup an optimizer\n",
        "optimizer = torch.optim.SGD(params=model_0.parameters(),\n",
        "                            lr=0.01) # learning rate (the most important hyperparameter)"
      ],
      "metadata": {
        "id": "oSy7zXvjd-82"
      },
      "execution_count": 199,
      "outputs": []
    },
    {
      "cell_type": "markdown",
      "source": [
        "## Building training and testing loops\n",
        "0. Loop through the data\n",
        "1. Forward pass to make predictions on data - also called forward propagation\n",
        "2. Calculate the loss (compare forward pass predictions to ground truth labels)\n",
        "3. Optimizer zero grad\n",
        "4. Loss backward - move backwards through the network to calculate the gradients of each of the parameters of our model with respect to the loss (**backpropagation**)\n",
        "5. Optimizer step - use the optimizer to adjust our model's parameters to try and improve the loss (**gradient descent**)"
      ],
      "metadata": {
        "id": "XK5wzx21fJBI"
      }
    },
    {
      "cell_type": "code",
      "source": [
        "# and epoch is one loop through the data\n",
        "epochs = 200\n",
        "\n",
        "# track different values\n",
        "epoch_count = []\n",
        "loss_values = []\n",
        "test_loss_values = []\n",
        "\n",
        "## Training\n",
        "# 0. Loop through the data\n",
        "for epoch in range(epochs):\n",
        "    # set the model to training mode\n",
        "    model_0.train() # sets all parameters that require gradients to require gradients\n",
        "\n",
        "    # 1. Forward pass\n",
        "    y_pred = model_0(X_train)\n",
        "\n",
        "    # 2. Calculate the loss\n",
        "    loss = loss_fn(y_pred, y_train)\n",
        "\n",
        "    # 3. Optimizer zero grad\n",
        "    optimizer.zero_grad()\n",
        "\n",
        "    # 4. Loss backward (perform backpropagation)\n",
        "    loss.backward()\n",
        "\n",
        "    # 5. Optimizer step (perform gradient descent)\n",
        "    optimizer.step()\n",
        "\n",
        "    ## Testing\n",
        "    model_0.eval() # turns off different settings in the model not needed for evaluation/testing\n",
        "    with torch.inference_mode(): # turns off gradient tracking\n",
        "        # 1. Do the forward pass\n",
        "        test_pred = model_0(X_test)\n",
        "\n",
        "        # 2. Calculate the loss\n",
        "        test_loss = loss_fn(test_pred, y_test)\n",
        "\n",
        "    if epoch % 10 == 0:\n",
        "        epoch_count.append(epoch)\n",
        "        loss_values.append(loss)\n",
        "        test_loss_values.append(test_loss)\n",
        "\n",
        "        print(f\"Epoch: {epoch}\")\n",
        "        print(f\"Loss: {loss}\")\n",
        "        print(f\"Test loss: {test_loss}\")\n",
        "        print(model_0.state_dict(),\"\\n\")"
      ],
      "metadata": {
        "colab": {
          "base_uri": "https://localhost:8080/"
        },
        "id": "snvptoL4gIdo",
        "outputId": "ba3f1782-3032-48c9-d1c8-00bb6189f3fa"
      },
      "execution_count": 200,
      "outputs": [
        {
          "output_type": "stream",
          "name": "stdout",
          "text": [
            "Epoch: 0\n",
            "Loss: 0.31288138031959534\n",
            "Test loss: 0.48106518387794495\n",
            "OrderedDict({'weight': tensor([0.3406]), 'bias': tensor([0.1388])}) \n",
            "\n",
            "Epoch: 10\n",
            "Loss: 0.1976713240146637\n",
            "Test loss: 0.3463551998138428\n",
            "OrderedDict({'weight': tensor([0.3796]), 'bias': tensor([0.2388])}) \n",
            "\n",
            "Epoch: 20\n",
            "Loss: 0.08908725529909134\n",
            "Test loss: 0.21729660034179688\n",
            "OrderedDict({'weight': tensor([0.4184]), 'bias': tensor([0.3333])}) \n",
            "\n",
            "Epoch: 30\n",
            "Loss: 0.053148526698350906\n",
            "Test loss: 0.14464017748832703\n",
            "OrderedDict({'weight': tensor([0.4512]), 'bias': tensor([0.3768])}) \n",
            "\n",
            "Epoch: 40\n",
            "Loss: 0.04543796554207802\n",
            "Test loss: 0.11360953003168106\n",
            "OrderedDict({'weight': tensor([0.4748]), 'bias': tensor([0.3868])}) \n",
            "\n",
            "Epoch: 50\n",
            "Loss: 0.04167863354086876\n",
            "Test loss: 0.09919948130846024\n",
            "OrderedDict({'weight': tensor([0.4938]), 'bias': tensor([0.3843])}) \n",
            "\n",
            "Epoch: 60\n",
            "Loss: 0.03818932920694351\n",
            "Test loss: 0.08886633068323135\n",
            "OrderedDict({'weight': tensor([0.5116]), 'bias': tensor([0.3788])}) \n",
            "\n",
            "Epoch: 70\n",
            "Loss: 0.03476089984178543\n",
            "Test loss: 0.0805937647819519\n",
            "OrderedDict({'weight': tensor([0.5288]), 'bias': tensor([0.3718])}) \n",
            "\n",
            "Epoch: 80\n",
            "Loss: 0.03132382780313492\n",
            "Test loss: 0.07232122868299484\n",
            "OrderedDict({'weight': tensor([0.5459]), 'bias': tensor([0.3648])}) \n",
            "\n",
            "Epoch: 90\n",
            "Loss: 0.02788739837706089\n",
            "Test loss: 0.06473556160926819\n",
            "OrderedDict({'weight': tensor([0.5629]), 'bias': tensor([0.3573])}) \n",
            "\n",
            "Epoch: 100\n",
            "Loss: 0.024458957836031914\n",
            "Test loss: 0.05646304413676262\n",
            "OrderedDict({'weight': tensor([0.5800]), 'bias': tensor([0.3503])}) \n",
            "\n",
            "Epoch: 110\n",
            "Loss: 0.021020207554101944\n",
            "Test loss: 0.04819049686193466\n",
            "OrderedDict({'weight': tensor([0.5972]), 'bias': tensor([0.3433])}) \n",
            "\n",
            "Epoch: 120\n",
            "Loss: 0.01758546568453312\n",
            "Test loss: 0.04060482233762741\n",
            "OrderedDict({'weight': tensor([0.6141]), 'bias': tensor([0.3358])}) \n",
            "\n",
            "Epoch: 130\n",
            "Loss: 0.014155393466353416\n",
            "Test loss: 0.03233227878808975\n",
            "OrderedDict({'weight': tensor([0.6313]), 'bias': tensor([0.3288])}) \n",
            "\n",
            "Epoch: 140\n",
            "Loss: 0.010716589167714119\n",
            "Test loss: 0.024059748277068138\n",
            "OrderedDict({'weight': tensor([0.6485]), 'bias': tensor([0.3218])}) \n",
            "\n",
            "Epoch: 150\n",
            "Loss: 0.0072835334576666355\n",
            "Test loss: 0.016474086791276932\n",
            "OrderedDict({'weight': tensor([0.6654]), 'bias': tensor([0.3143])}) \n",
            "\n",
            "Epoch: 160\n",
            "Loss: 0.0038517764769494534\n",
            "Test loss: 0.008201557211577892\n",
            "OrderedDict({'weight': tensor([0.6826]), 'bias': tensor([0.3073])}) \n",
            "\n",
            "Epoch: 170\n",
            "Loss: 0.008932482451200485\n",
            "Test loss: 0.005023092031478882\n",
            "OrderedDict({'weight': tensor([0.6951]), 'bias': tensor([0.2993])}) \n",
            "\n",
            "Epoch: 180\n",
            "Loss: 0.008932482451200485\n",
            "Test loss: 0.005023092031478882\n",
            "OrderedDict({'weight': tensor([0.6951]), 'bias': tensor([0.2993])}) \n",
            "\n",
            "Epoch: 190\n",
            "Loss: 0.008932482451200485\n",
            "Test loss: 0.005023092031478882\n",
            "OrderedDict({'weight': tensor([0.6951]), 'bias': tensor([0.2993])}) \n",
            "\n"
          ]
        }
      ]
    },
    {
      "cell_type": "code",
      "source": [
        "# plot the loss curves\n",
        "plt.plot(epoch_count, np.array(torch.tensor(loss_values).numpy()), label=\"Train loss\")\n",
        "plt.plot(epoch_count, test_loss_values, label=\"Test loss\")\n",
        "plt.title(\"Training and test loss curves\")\n",
        "plt.ylabel(\"Loss\")\n",
        "plt.xlabel(\"Epoch\")\n",
        "plt.legend();"
      ],
      "metadata": {
        "colab": {
          "base_uri": "https://localhost:8080/",
          "height": 472
        },
        "id": "-wM9Tcu_v-Tb",
        "outputId": "e910fefb-54a1-4255-9c8b-c80e505549da"
      },
      "execution_count": 201,
      "outputs": [
        {
          "output_type": "display_data",
          "data": {
            "text/plain": [
              "<Figure size 640x480 with 1 Axes>"
            ],
            "image/png": "[encoded data removed]"
          },
          "metadata": {}
        }
      ]
    },
    {
      "cell_type": "markdown",
      "source": [
        "# 4. Making predictions with a trained model"
      ],
      "metadata": {
        "id": "r_DmzH1TzcMa"
      }
    },
    {
      "cell_type": "code",
      "source": [
        "with torch.inference_mode():\n",
        "    y_preds_new = model_0(X_test)"
      ],
      "metadata": {
        "id": "6OO2IFL3kqeG"
      },
      "execution_count": 202,
      "outputs": []
    },
    {
      "cell_type": "code",
      "source": [
        "model_0.state_dict()"
      ],
      "metadata": {
        "colab": {
          "base_uri": "https://localhost:8080/"
        },
        "id": "zWi2BHuekzqp",
        "outputId": "46c440ae-e9ba-4707-a94c-399396ce8aef"
      },
      "execution_count": 203,
      "outputs": [
        {
          "output_type": "execute_result",
          "data": {
            "text/plain": [
              "OrderedDict([('weight', tensor([0.6990])), ('bias', tensor([0.3093]))])"
            ]
          },
          "metadata": {},
          "execution_count": 203
        }
      ]
    },
    {
      "cell_type": "code",
      "source": [
        "weight, bias"
      ],
      "metadata": {
        "colab": {
          "base_uri": "https://localhost:8080/"
        },
        "id": "EFINfAq7ksZx",
        "outputId": "7068f1a8-9cb6-4e00-cbeb-02394b0bcdeb"
      },
      "execution_count": 204,
      "outputs": [
        {
          "output_type": "execute_result",
          "data": {
            "text/plain": [
              "(0.7, 0.3)"
            ]
          },
          "metadata": {},
          "execution_count": 204
        }
      ]
    },
    {
      "cell_type": "code",
      "source": [
        "plot_predictions(predictions=y_preds)"
      ],
      "metadata": {
        "colab": {
          "base_uri": "https://localhost:8080/",
          "height": 599
        },
        "id": "O9BEcllqk2Qj",
        "outputId": "96436582-35b1-4977-93cb-1313d2caa1ec"
      },
      "execution_count": 205,
      "outputs": [
        {
          "output_type": "display_data",
          "data": {
            "text/plain": [
              "<Figure size 1000x700 with 1 Axes>"
            ],
            "image/png": "[encoded data removed]"
          },
          "metadata": {}
        }
      ]
    },
    {
      "cell_type": "code",
      "source": [
        "plot_predictions(predictions=y_preds_new)"
      ],
      "metadata": {
        "colab": {
          "base_uri": "https://localhost:8080/",
          "height": 599
        },
        "id": "wPFkWmygoQkU",
        "outputId": "96149645-3e19-47c3-d821-13022a90eef1"
      },
      "execution_count": 206,
      "outputs": [
        {
          "output_type": "display_data",
          "data": {
            "text/plain": [
              "<Figure size 1000x700 with 1 Axes>"
            ],
            "image/png": "[encoded data removed]"
          },
          "metadata": {}
        }
      ]
    },
    {
      "cell_type": "markdown",
      "source": [
        "# 5. Saving a model\n",
        "- `torch.save()` - save the object in Python's pickle format\n",
        "- `torch.load()` - load a saved object\n",
        "- `toch.nn.Module.load_state_dict()` - load a model's saved state dictionary"
      ],
      "metadata": {
        "id": "475MtxB-w5Cy"
      }
    },
    {
      "cell_type": "code",
      "source": [
        "from pathlib import Path\n",
        "\n",
        "# 1. Create models directory\n",
        "MODEL_PATH = Path(\"models\")\n",
        "MODEL_PATH.mkdir(parents=True, exist_ok=True)\n",
        "\n",
        "# 2. Create model save path\n",
        "MODEL_NAME = \"01_pytorch_workflow_model_0.pth\"\n",
        "MODEL_SAVE_PATH = MODEL_PATH / MODEL_NAME\n",
        "\n",
        "# 3. Save the model state dict\n",
        "print(f\"Saving model to: {MODEL_SAVE_PATH}\")\n",
        "torch.save(obj=model_0.state_dict(),\n",
        "           f=MODEL_SAVE_PATH)"
      ],
      "metadata": {
        "colab": {
          "base_uri": "https://localhost:8080/"
        },
        "id": "0QnUtl5JxbP_",
        "outputId": "6f4a5ed9-0a14-4cd9-c8bf-16678d14000a"
      },
      "execution_count": 207,
      "outputs": [
        {
          "output_type": "stream",
          "name": "stdout",
          "text": [
            "Saving model to: models/01_pytorch_workflow_model_0.pth\n"
          ]
        }
      ]
    },
    {
      "cell_type": "code",
      "source": [
        "!ls -l models"
      ],
      "metadata": {
        "colab": {
          "base_uri": "https://localhost:8080/"
        },
        "id": "PgcTeerox_17",
        "outputId": "62e77349-3df7-4ad6-cd09-cb864e54e5c7"
      },
      "execution_count": 208,
      "outputs": [
        {
          "output_type": "stream",
          "name": "stdout",
          "text": [
            "total 4\n",
            "-rw-r--r-- 1 root root 2117 Sep 19 21:26 01_pytorch_workflow_model_0.pth\n"
          ]
        }
      ]
    },
    {
      "cell_type": "code",
      "source": [
        "# loading a model\n",
        "loaded_model_0 = LinearRegressionModel()\n",
        "loaded_model_0.load_state_dict(torch.load(f=MODEL_SAVE_PATH))"
      ],
      "metadata": {
        "id": "wn6ZT3LJyHt_",
        "colab": {
          "base_uri": "https://localhost:8080/"
        },
        "outputId": "00aa0173-05f6-4bba-f063-1e79db5513f5"
      },
      "execution_count": 209,
      "outputs": [
        {
          "output_type": "execute_result",
          "data": {
            "text/plain": [
              "<All keys matched successfully>"
            ]
          },
          "metadata": {},
          "execution_count": 209
        }
      ]
    },
    {
      "cell_type": "code",
      "source": [
        "# make some predictions with loaded model\n",
        "loaded_model_0.eval()\n",
        "with torch.inference_mode():\n",
        "    loaded_model_preds = loaded_model_0(X_test)\n",
        "\n",
        "loaded_model_preds"
      ],
      "metadata": {
        "colab": {
          "base_uri": "https://localhost:8080/"
        },
        "id": "QBNifOE3yb4Y",
        "outputId": "ad02e76d-a4e9-4a45-c71c-25e86899641a"
      },
      "execution_count": 210,
      "outputs": [
        {
          "output_type": "execute_result",
          "data": {
            "text/plain": [
              "tensor([[0.8685],\n",
              "        [0.8825],\n",
              "        [0.8965],\n",
              "        [0.9105],\n",
              "        [0.9245],\n",
              "        [0.9384],\n",
              "        [0.9524],\n",
              "        [0.9664],\n",
              "        [0.9804],\n",
              "        [0.9944]])"
            ]
          },
          "metadata": {},
          "execution_count": 210
        }
      ]
    },
    {
      "cell_type": "code",
      "source": [
        "# make some predictions with original model\n",
        "model_0.eval()\n",
        "with torch.inference_mode():\n",
        "    y_preds = loaded_model_0(X_test)\n",
        "\n",
        "loaded_model_preds"
      ],
      "metadata": {
        "colab": {
          "base_uri": "https://localhost:8080/"
        },
        "id": "Sj-N38m2yycP",
        "outputId": "8418a04f-fcdf-48d1-aac7-253b8a5fbb91"
      },
      "execution_count": 211,
      "outputs": [
        {
          "output_type": "execute_result",
          "data": {
            "text/plain": [
              "tensor([[0.8685],\n",
              "        [0.8825],\n",
              "        [0.8965],\n",
              "        [0.9105],\n",
              "        [0.9245],\n",
              "        [0.9384],\n",
              "        [0.9524],\n",
              "        [0.9664],\n",
              "        [0.9804],\n",
              "        [0.9944]])"
            ]
          },
          "metadata": {},
          "execution_count": 211
        }
      ]
    },
    {
      "cell_type": "code",
      "source": [
        "y_preds == loaded_model_preds"
      ],
      "metadata": {
        "colab": {
          "base_uri": "https://localhost:8080/"
        },
        "id": "ZLPdvD6-yh2X",
        "outputId": "392beb8e-6deb-4fdf-9e1b-1c943140c08c"
      },
      "execution_count": 212,
      "outputs": [
        {
          "output_type": "execute_result",
          "data": {
            "text/plain": [
              "tensor([[True],\n",
              "        [True],\n",
              "        [True],\n",
              "        [True],\n",
              "        [True],\n",
              "        [True],\n",
              "        [True],\n",
              "        [True],\n",
              "        [True],\n",
              "        [True]])"
            ]
          },
          "metadata": {},
          "execution_count": 212
        }
      ]
    },
    {
      "cell_type": "markdown",
      "source": [
        "# 6. Putting it all together\n"
      ],
      "metadata": {
        "id": "4YmeXRKry_iM"
      }
    },
    {
      "cell_type": "code",
      "source": [
        "import torch\n",
        "from torch import nn\n",
        "import matplotlib.pyplot as plt\n",
        "\n",
        "torch.__version__"
      ],
      "metadata": {
        "colab": {
          "base_uri": "https://localhost:8080/",
          "height": 36
        },
        "id": "SmmhGKSKzvBR",
        "outputId": "1540c21b-4079-43f7-a5a7-a788c39290b5"
      },
      "execution_count": 213,
      "outputs": [
        {
          "output_type": "execute_result",
          "data": {
            "text/plain": [
              "'2.8.0+cu126'"
            ],
            "application/vnd.google.colaboratory.intrinsic+json": {
              "type": "string"
            }
          },
          "metadata": {},
          "execution_count": 213
        }
      ]
    },
    {
      "cell_type": "code",
      "source": [
        "device = \"cuda\" if torch.cuda.is_available() else \"cpu\"\n",
        "print(f\"Using device: {device}\")"
      ],
      "metadata": {
        "colab": {
          "base_uri": "https://localhost:8080/"
        },
        "id": "8F5rOiwGz27l",
        "outputId": "1ba789a0-310a-4a60-fa1d-ce124bff4866"
      },
      "execution_count": 214,
      "outputs": [
        {
          "output_type": "stream",
          "name": "stdout",
          "text": [
            "Using device: cuda\n"
          ]
        }
      ]
    },
    {
      "cell_type": "markdown",
      "source": [
        "## Data"
      ],
      "metadata": {
        "id": "pgxzDeJM0LTU"
      }
    },
    {
      "cell_type": "code",
      "source": [
        "weight = 0.7\n",
        "bias = 0.3\n",
        "\n",
        "start = 0\n",
        "end = 1\n",
        "step = 0.02\n",
        "\n",
        "X = torch.arange(start, end, step).unsqueeze(dim=1)\n",
        "y = weight * X + bias\n",
        "X[:10], y[:10]"
      ],
      "metadata": {
        "colab": {
          "base_uri": "https://localhost:8080/"
        },
        "id": "p0QlVoUm0MWH",
        "outputId": "a52ec0b5-5821-4ffa-c3fd-bdc25e05394a"
      },
      "execution_count": 215,
      "outputs": [
        {
          "output_type": "execute_result",
          "data": {
            "text/plain": [
              "(tensor([[0.0000],\n",
              "         [0.0200],\n",
              "         [0.0400],\n",
              "         [0.0600],\n",
              "         [0.0800],\n",
              "         [0.1000],\n",
              "         [0.1200],\n",
              "         [0.1400],\n",
              "         [0.1600],\n",
              "         [0.1800]]),\n",
              " tensor([[0.3000],\n",
              "         [0.3140],\n",
              "         [0.3280],\n",
              "         [0.3420],\n",
              "         [0.3560],\n",
              "         [0.3700],\n",
              "         [0.3840],\n",
              "         [0.3980],\n",
              "         [0.4120],\n",
              "         [0.4260]]))"
            ]
          },
          "metadata": {},
          "execution_count": 215
        }
      ]
    },
    {
      "cell_type": "code",
      "source": [
        "# split the data\n",
        "train_split = int(0.8 * len(X))\n",
        "X_train, y_train = X[:train_split], y[:train_split]\n",
        "X_test, y_test = X[train_split:], y[train_split:]\n",
        "len(X_train), len(y_train), len(X_test), len(y_test)"
      ],
      "metadata": {
        "colab": {
          "base_uri": "https://localhost:8080/"
        },
        "id": "JXRuhwg40gmo",
        "outputId": "918096ef-a2a8-4cc5-9910-c0b568dfbf09"
      },
      "execution_count": 216,
      "outputs": [
        {
          "output_type": "execute_result",
          "data": {
            "text/plain": [
              "(40, 40, 10, 10)"
            ]
          },
          "metadata": {},
          "execution_count": 216
        }
      ]
    },
    {
      "cell_type": "code",
      "source": [
        "# how might we better visualize our data?\n",
        "def plot_predictions(train_data=X_train,\n",
        "                     train_labels=y_train,\n",
        "                     test_data=X_test,\n",
        "                     test_labels=y_test,\n",
        "                     predictions=None):\n",
        "\n",
        "    plt.figure(figsize=(10, 7)) # plots training data, test data and compares predictions\n",
        "    plt.scatter(train_data, train_labels, c=\"b\", s=4, label=\"Training data\") # plot training data in blue\n",
        "    plt.scatter(test_data, test_labels, c=\"g\", s=4, label=\"Testing data\") # plot training data in green\n",
        "\n",
        "    if predictions is not None:\n",
        "        plt.scatter(test_data, predictions, c=\"r\", s=4, label=\"Predictions\") # plot predictions in red (if they exist)\n",
        "\n",
        "    plt.legend(prop={\"size\": 14}) # show the legend"
      ],
      "metadata": {
        "id": "lNEbAoYU0_TN"
      },
      "execution_count": 217,
      "outputs": []
    },
    {
      "cell_type": "code",
      "source": [
        "# plot the data\n",
        "plot_predictions(X_train, y_train, X_test, y_test)"
      ],
      "metadata": {
        "colab": {
          "base_uri": "https://localhost:8080/",
          "height": 599
        },
        "id": "obwfZEou0qsO",
        "outputId": "bf112ba1-3c0e-4ee1-a6c3-4b1169756cb7"
      },
      "execution_count": 218,
      "outputs": [
        {
          "output_type": "display_data",
          "data": {
            "text/plain": [
              "<Figure size 1000x700 with 1 Axes>"
            ],
            "image/png": "[encoded data removed]"
          },
          "metadata": {}
        }
      ]
    },
    {
      "cell_type": "markdown",
      "source": [
        "## Building a Linear model"
      ],
      "metadata": {
        "id": "pdH8XQXy1HRv"
      }
    },
    {
      "cell_type": "code",
      "source": [
        "class LinearRegressionModelV2(nn.Module):\n",
        "    def __init__(self):\n",
        "        super().__init__()\n",
        "        self.linear_layer = nn.Linear(in_features=1,\n",
        "                                      out_features=1)\n",
        "        # use nn.Linear() for creating the model parameters\n",
        "        self.linear_layer = nn.Linear(in_features=1,\n",
        "                                      out_features=1)\n",
        "    def forward(self, x: torch.Tensor) -> torch.Tensor:\n",
        "        return self.linear_layer(x)\n",
        "\n",
        "torch.manual_seed(42)\n",
        "model_1 = LinearRegressionModelV2()\n",
        "model_1, model_1.state_dict()"
      ],
      "metadata": {
        "colab": {
          "base_uri": "https://localhost:8080/"
        },
        "id": "rzi4XoYx1Ssm",
        "outputId": "1f6866a7-5b5e-4107-c4ea-d2a0f1ac9097"
      },
      "execution_count": 219,
      "outputs": [
        {
          "output_type": "execute_result",
          "data": {
            "text/plain": [
              "(LinearRegressionModelV2(\n",
              "   (linear_layer): Linear(in_features=1, out_features=1, bias=True)\n",
              " ),\n",
              " OrderedDict([('linear_layer.weight', tensor([[-0.2343]])),\n",
              "              ('linear_layer.bias', tensor([0.9186]))]))"
            ]
          },
          "metadata": {},
          "execution_count": 219
        }
      ]
    },
    {
      "cell_type": "code",
      "source": [
        "next(model_1.parameters()).device"
      ],
      "metadata": {
        "colab": {
          "base_uri": "https://localhost:8080/"
        },
        "id": "NUPE7SlU2CJf",
        "outputId": "9aae8477-0e93-4629-9155-e8bd8aa71164"
      },
      "execution_count": 220,
      "outputs": [
        {
          "output_type": "execute_result",
          "data": {
            "text/plain": [
              "device(type='cpu')"
            ]
          },
          "metadata": {},
          "execution_count": 220
        }
      ]
    },
    {
      "cell_type": "code",
      "source": [
        "# set the model to use the target device\n",
        "model_1.to(device)\n",
        "next(model_1.parameters()).device"
      ],
      "metadata": {
        "id": "hJyrplzG2Fyb",
        "colab": {
          "base_uri": "https://localhost:8080/"
        },
        "outputId": "93c4bddd-1ca5-4cc4-b480-68ab58c7e631"
      },
      "execution_count": 221,
      "outputs": [
        {
          "output_type": "execute_result",
          "data": {
            "text/plain": [
              "device(type='cuda', index=0)"
            ]
          },
          "metadata": {},
          "execution_count": 221
        }
      ]
    },
    {
      "cell_type": "markdown",
      "source": [
        "## Training\n",
        "- Loss function\n",
        "- Optimizer\n",
        "- Training loop\n",
        "- Testing loop"
      ],
      "metadata": {
        "id": "yFUIKrRp2LR4"
      }
    },
    {
      "cell_type": "code",
      "source": [
        "# setup loss function\n",
        "loss_fn = nn.L1Loss()\n",
        "\n",
        "# setup optimizer\n",
        "optimizer = torch.optim.SGD(params=model_1.parameters(),\n",
        "                            lr=0.01)"
      ],
      "metadata": {
        "id": "WhY-fKOd2Nse"
      },
      "execution_count": 222,
      "outputs": []
    },
    {
      "cell_type": "code",
      "source": [
        "torch.manual_seed(42)\n",
        "epochs = 200\n",
        "\n",
        "# put data on the target device\n",
        "X_train = X_train.to(device)\n",
        "y_train = y_train.to(device)\n",
        "X_test = X_test.to(device)\n",
        "y_test = y_test.to(device)\n",
        "\n",
        "## Training\n",
        "for epoch in range(epochs):\n",
        "    model_1.train()\n",
        "\n",
        "    # 1. Forward pass\n",
        "    y_pred = model_1(X_train)\n",
        "\n",
        "    # 2. Calculate the loss\n",
        "    loss = loss_fn(y_pred, y_train)\n",
        "\n",
        "    # 3. Optimizer zero grad\n",
        "    optimizer.zero_grad()\n",
        "\n",
        "    # 4. Performs backpropagation\n",
        "    loss.backward()\n",
        "\n",
        "    # 5. Optimizer step\n",
        "    optimizer.step()\n",
        "\n",
        "    ## Testing\n",
        "    model_1.eval()\n",
        "    with torch.inference_mode():\n",
        "        test_pred = model_1(X_test)\n",
        "        test_loss = loss_fn(test_pred, y_test)\n",
        "\n",
        "    if epoch % 10 == 0:\n",
        "        print(f\"Epoch: {epoch} | Loss: {loss} | Test loss: {test_loss}\")"
      ],
      "metadata": {
        "colab": {
          "base_uri": "https://localhost:8080/"
        },
        "id": "VSxX_eTY2X6r",
        "outputId": "c0afa343-9cc0-4dd8-eeb0-370d551f8c98"
      },
      "execution_count": 223,
      "outputs": [
        {
          "output_type": "stream",
          "name": "stdout",
          "text": [
            "Epoch: 0 | Loss: 0.27326732873916626 | Test loss: 0.22141316533088684\n",
            "Epoch: 10 | Loss: 0.23704762756824493 | Test loss: 0.2870032489299774\n",
            "Epoch: 20 | Loss: 0.21699956059455872 | Test loss: 0.33194655179977417\n",
            "Epoch: 30 | Loss: 0.20525315403938293 | Test loss: 0.3605499863624573\n",
            "Epoch: 40 | Loss: 0.19732363522052765 | Test loss: 0.3797075152397156\n",
            "Epoch: 50 | Loss: 0.19156281650066376 | Test loss: 0.3909884989261627\n",
            "Epoch: 60 | Loss: 0.18687061965465546 | Test loss: 0.39661428332328796\n",
            "Epoch: 70 | Loss: 0.18274372816085815 | Test loss: 0.3994213938713074\n",
            "Epoch: 80 | Loss: 0.1789170354604721 | Test loss: 0.3980535864830017\n",
            "Epoch: 90 | Loss: 0.17538894712924957 | Test loss: 0.3939024806022644\n",
            "Epoch: 100 | Loss: 0.17186087369918823 | Test loss: 0.3897513449192047\n",
            "Epoch: 110 | Loss: 0.1683327853679657 | Test loss: 0.385600209236145\n",
            "Epoch: 120 | Loss: 0.16480469703674316 | Test loss: 0.3814491331577301\n",
            "Epoch: 130 | Loss: 0.16129322350025177 | Test loss: 0.3766111433506012\n",
            "Epoch: 140 | Loss: 0.15786206722259521 | Test loss: 0.36833882331848145\n",
            "Epoch: 150 | Loss: 0.15442326664924622 | Test loss: 0.3600665032863617\n",
            "Epoch: 160 | Loss: 0.1509912610054016 | Test loss: 0.35248109698295593\n",
            "Epoch: 170 | Loss: 0.14755846560001373 | Test loss: 0.3442087769508362\n",
            "Epoch: 180 | Loss: 0.14411965012550354 | Test loss: 0.33593642711639404\n",
            "Epoch: 190 | Loss: 0.14068931341171265 | Test loss: 0.3283509910106659\n"
          ]
        }
      ]
    },
    {
      "cell_type": "code",
      "source": [
        "model_1.state_dict()\n",
        "weight, bias"
      ],
      "metadata": {
        "colab": {
          "base_uri": "https://localhost:8080/"
        },
        "id": "n-bywiiH3AC-",
        "outputId": "a2032d75-f41e-427e-fe00-b65044e765d1"
      },
      "execution_count": 224,
      "outputs": [
        {
          "output_type": "execute_result",
          "data": {
            "text/plain": [
              "(0.7, 0.3)"
            ]
          },
          "metadata": {},
          "execution_count": 224
        }
      ]
    },
    {
      "cell_type": "markdown",
      "source": [
        "## Making and evaluating predictions"
      ],
      "metadata": {
        "id": "A0fIdb7y3KpH"
      }
    },
    {
      "cell_type": "code",
      "source": [
        "# turn model into evaluation mode\n",
        "model_1.eval()\n",
        "\n",
        "# make predictions on the test data\n",
        "with torch.inference_mode():\n",
        "    y_preds = model_1(X_test)\n",
        "\n",
        "y_preds"
      ],
      "metadata": {
        "colab": {
          "base_uri": "https://localhost:8080/"
        },
        "id": "wYKBfHra3OLm",
        "outputId": "9c3b2753-d42b-42d4-a6e5-ee3decf93f87"
      },
      "execution_count": 225,
      "outputs": [
        {
          "output_type": "execute_result",
          "data": {
            "text/plain": [
              "tensor([[0.6003],\n",
              "        [0.6006],\n",
              "        [0.6010],\n",
              "        [0.6013],\n",
              "        [0.6016],\n",
              "        [0.6020],\n",
              "        [0.6023],\n",
              "        [0.6027],\n",
              "        [0.6030],\n",
              "        [0.6034]], device='cuda:0')"
            ]
          },
          "metadata": {},
          "execution_count": 225
        }
      ]
    },
    {
      "cell_type": "code",
      "source": [
        "plot_predictions(predictions=y_preds.cpu())"
      ],
      "metadata": {
        "colab": {
          "base_uri": "https://localhost:8080/",
          "height": 599
        },
        "id": "j6DW-k_f3WyM",
        "outputId": "e0598edc-8eb9-4471-c808-2ee970c234e0"
      },
      "execution_count": 226,
      "outputs": [
        {
          "output_type": "display_data",
          "data": {
            "text/plain": [
              "<Figure size 1000x700 with 1 Axes>"
            ],
            "image/png": "[encoded data removed]"
          },
          "metadata": {}
        }
      ]
    }
  ],
  "metadata": {
    "colab": {
      "toc_visible": true,
      "provenance": [],
      "gpuType": "T4",
      "include_colab_link": true
    },
    "kernelspec": {
      "display_name": "Python 3",
      "name": "python3"
    },
    "language_info": {
      "name": "python"
    },
    "accelerator": "GPU"
  },
  "nbformat": 4,
  "nbformat_minor": 0
}