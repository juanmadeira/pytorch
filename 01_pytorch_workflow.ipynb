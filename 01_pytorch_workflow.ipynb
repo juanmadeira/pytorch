{
  "cells": [
    {
      "cell_type": "markdown",
      "metadata": {
        "id": "view-in-github",
        "colab_type": "text"
      },
      "source": [
        "<a href=\"https://colab.research.google.com/github/juanmadeira/pytorch/blob/main/01_pytorch_workflow.ipynb\" target=\"_parent\"><img src=\"https://colab.research.google.com/assets/colab-badge.svg\" alt=\"Open In Colab\"/></a>"
      ]
    },
    {
      "cell_type": "markdown",
      "metadata": {
        "id": "3cxcY17Hcrg0"
      },
      "source": [
        "# 01. [PyTorch Workflow](https://www.learnpytorch.io/01_pytorch_workflow/)"
      ]
    },
    {
      "cell_type": "code",
      "execution_count": 347,
      "metadata": {
        "id": "TJYnNaFh1NH0"
      },
      "outputs": [],
      "source": [
        "workflow = {1: \"data (prepare and load)\",\n",
        "            2: \"build model\",\n",
        "            3: \"fitting the model to data (training)\",\n",
        "            4: \"making predictions and evaluating a model (inference)\",\n",
        "            5: \"saving  and loading a model\",\n",
        "            6: \"putting it all together\"}"
      ]
    },
    {
      "cell_type": "code",
      "execution_count": 348,
      "metadata": {
        "colab": {
          "base_uri": "https://localhost:8080/",
          "height": 36
        },
        "id": "XQWnqq2B2Ble",
        "outputId": "9feca347-f089-4864-8ec7-66550ab10e0b"
      },
      "outputs": [
        {
          "output_type": "execute_result",
          "data": {
            "text/plain": [
              "'2.8.0+cu126'"
            ],
            "application/vnd.google.colaboratory.intrinsic+json": {
              "type": "string"
            }
          },
          "metadata": {},
          "execution_count": 348
        }
      ],
      "source": [
        "import torch\n",
        "from torch import nn # contains all of PyTorch's building blocks for neural networks\n",
        "import matplotlib.pyplot as plt\n",
        "import numpy as np\n",
        "\n",
        "torch.__version__"
      ]
    },
    {
      "cell_type": "markdown",
      "metadata": {
        "id": "AHc6iZI24nNz"
      },
      "source": [
        "# 1. Data (preparing and loading)\n",
        "* Excel spreadsheet\n",
        "* Images\n",
        "* Videos\n",
        "* Audios\n",
        "* DNA\n",
        "* Text\n",
        "\n",
        "1.1. Get data into numerical representation\\\n",
        "1.2. Build a model to learn patterns in that numerical representation\n",
        "\n",
        "> Linear Regression Formula\n",
        "```\n",
        "y = a + bx\n",
        "```\n",
        "y = dependent variable\\\n",
        "a = intercept (value of y when x = 0)\\\n",
        "x = explanatory (independent) variable"
      ]
    },
    {
      "cell_type": "code",
      "execution_count": 349,
      "metadata": {
        "colab": {
          "base_uri": "https://localhost:8080/"
        },
        "id": "RYVvdKlPkgIS",
        "outputId": "91539b05-392a-4e90-a68f-0a5447eb4f42"
      },
      "outputs": [
        {
          "output_type": "stream",
          "name": "stdout",
          "text": [
            "tensor([[0.0000],\n",
            "        [0.0200],\n",
            "        [0.0400],\n",
            "        [0.0600],\n",
            "        [0.0800],\n",
            "        [0.1000],\n",
            "        [0.1200],\n",
            "        [0.1400],\n",
            "        [0.1600],\n",
            "        [0.1800]]),\n",
            "\n",
            "tensor([[0.3000],\n",
            "        [0.3140],\n",
            "        [0.3280],\n",
            "        [0.3420],\n",
            "        [0.3560],\n",
            "        [0.3700],\n",
            "        [0.3840],\n",
            "        [0.3980],\n",
            "        [0.4120],\n",
            "        [0.4260]])\n",
            "\n",
            "len(X): 50, len(y): 50\n"
          ]
        }
      ],
      "source": [
        "weight = 0.7 # b\n",
        "bias = 0.3 # a\n",
        "\n",
        "start = 0\n",
        "end = 1\n",
        "step = 0.02\n",
        "X = torch.arange(start, end, step).unsqueeze(dim=1) # capital X typically is a matrix or a tensor (if lowercase represents a vector)\n",
        "y = weight * X + bias\n",
        "\n",
        "print(f\"{X[:10]},\\n\\n{y[:10]}\")\n",
        "print(f\"\\nlen(X): {len(X)}, len(y): {len(y)}\")"
      ]
    },
    {
      "cell_type": "markdown",
      "metadata": {
        "id": "f1A1-RfDmrue"
      },
      "source": [
        "## Splitting data into training and test sets"
      ]
    },
    {
      "cell_type": "code",
      "execution_count": 350,
      "metadata": {
        "colab": {
          "base_uri": "https://localhost:8080/"
        },
        "id": "C3UZ-oksphSz",
        "outputId": "1c4d9373-f11a-435c-923f-46f6d75b9b93"
      },
      "outputs": [
        {
          "output_type": "stream",
          "name": "stdout",
          "text": [
            "40 40 10 10\n",
            "\n",
            "tensor([[0.0000],\n",
            "        [0.0200],\n",
            "        [0.0400],\n",
            "        [0.0600],\n",
            "        [0.0800],\n",
            "        [0.1000],\n",
            "        [0.1200],\n",
            "        [0.1400],\n",
            "        [0.1600],\n",
            "        [0.1800],\n",
            "        [0.2000],\n",
            "        [0.2200],\n",
            "        [0.2400],\n",
            "        [0.2600],\n",
            "        [0.2800],\n",
            "        [0.3000],\n",
            "        [0.3200],\n",
            "        [0.3400],\n",
            "        [0.3600],\n",
            "        [0.3800],\n",
            "        [0.4000],\n",
            "        [0.4200],\n",
            "        [0.4400],\n",
            "        [0.4600],\n",
            "        [0.4800],\n",
            "        [0.5000],\n",
            "        [0.5200],\n",
            "        [0.5400],\n",
            "        [0.5600],\n",
            "        [0.5800],\n",
            "        [0.6000],\n",
            "        [0.6200],\n",
            "        [0.6400],\n",
            "        [0.6600],\n",
            "        [0.6800],\n",
            "        [0.7000],\n",
            "        [0.7200],\n",
            "        [0.7400],\n",
            "        [0.7600],\n",
            "        [0.7800]])\n",
            "\n",
            "tensor([[0.3000],\n",
            "        [0.3140],\n",
            "        [0.3280],\n",
            "        [0.3420],\n",
            "        [0.3560],\n",
            "        [0.3700],\n",
            "        [0.3840],\n",
            "        [0.3980],\n",
            "        [0.4120],\n",
            "        [0.4260],\n",
            "        [0.4400],\n",
            "        [0.4540],\n",
            "        [0.4680],\n",
            "        [0.4820],\n",
            "        [0.4960],\n",
            "        [0.5100],\n",
            "        [0.5240],\n",
            "        [0.5380],\n",
            "        [0.5520],\n",
            "        [0.5660],\n",
            "        [0.5800],\n",
            "        [0.5940],\n",
            "        [0.6080],\n",
            "        [0.6220],\n",
            "        [0.6360],\n",
            "        [0.6500],\n",
            "        [0.6640],\n",
            "        [0.6780],\n",
            "        [0.6920],\n",
            "        [0.7060],\n",
            "        [0.7200],\n",
            "        [0.7340],\n",
            "        [0.7480],\n",
            "        [0.7620],\n",
            "        [0.7760],\n",
            "        [0.7900],\n",
            "        [0.8040],\n",
            "        [0.8180],\n",
            "        [0.8320],\n",
            "        [0.8460]])\n"
          ]
        }
      ],
      "source": [
        "train_split = int(0.8 * len(X))\n",
        "X_train, y_train = X[:train_split], y[:train_split]\n",
        "X_test, y_test = X[train_split:], y[train_split:]\n",
        "\n",
        "print(len(X_train), len(y_train), len(X_test), len(y_test))\n",
        "print(f\"\\n{X_train}\\n\\n{y_train}\")"
      ]
    },
    {
      "cell_type": "code",
      "execution_count": 351,
      "metadata": {
        "colab": {
          "base_uri": "https://localhost:8080/",
          "height": 599
        },
        "id": "VkctJ8aAquhR",
        "outputId": "dcf7e168-5155-42d1-ca7f-611a896c0f3a"
      },
      "outputs": [
        {
          "output_type": "display_data",
          "data": {
            "text/plain": [
              "<Figure size 1000x700 with 1 Axes>"
            ],
            "image/png": "[encoded data removed]"
          },
          "metadata": {}
        }
      ],
      "source": [
        "# how might we better visualize our data?\n",
        "def plot_predictions(train_data=X_train,\n",
        "                     train_labels=y_train,\n",
        "                     test_data=X_test,\n",
        "                     test_labels=y_test,\n",
        "                     predictions=None):\n",
        "\n",
        "    plt.figure(figsize=(10, 7)) # plots training data, test data and compares predictions\n",
        "    plt.scatter(train_data, train_labels, c=\"b\", s=4, label=\"Training data\") # plot training data in blue\n",
        "    plt.scatter(test_data, test_labels, c=\"g\", s=4, label=\"Testing data\") # plot training data in green\n",
        "\n",
        "    if predictions is not None:\n",
        "        plt.scatter(test_data, predictions, c=\"r\", s=4, label=\"Predictions\") # plot predictions in red (if they exist)\n",
        "\n",
        "    plt.legend(prop={\"size\": 14}) # show the legend\n",
        "\n",
        "plot_predictions()"
      ]
    },
    {
      "cell_type": "markdown",
      "metadata": {
        "id": "k45JXylQtWYv"
      },
      "source": [
        "# 2. Build a model\n",
        "To learn about [OOP in Python](https://realpython.com/python3-object-oriented-programming/).\n",
        "\n",
        "What our model does:\n",
        "* Start with random values\n",
        "* Look at training data and adjust the random values to better represent (or get closer to) the ideal values (the weight & bias values we used to create data)\n",
        "\n",
        "How does it do so?\n",
        "1. [Gradient descent](https://youtu.be/IHZwWFHWa-w)\n",
        "2. [Backpropagation](https://youtu.be/Ilg3gGewQ5U)"
      ]
    },
    {
      "cell_type": "code",
      "execution_count": 352,
      "metadata": {
        "id": "e31upi-Bt5O8"
      },
      "outputs": [],
      "source": [
        "# create linear regression model class\n",
        "class LinearRegressionModel(nn.Module):\n",
        "    def __init__(self):\n",
        "        super().__init__()\n",
        "        self.weight = nn.Parameter(torch.randn(1,\n",
        "                                                requires_grad=True,\n",
        "                                                dtype=torch.float))\n",
        "        self.bias = nn.Parameter(torch.randn(1,\n",
        "                                                requires_grad=True,\n",
        "                                                dtype=torch.float))\n",
        "\n",
        "    def forward(self, x: torch.Tensor) -> torch.Tensor: # x is the input data\n",
        "        return self.weight * x + self.bias # linear regression formula"
      ]
    },
    {
      "cell_type": "markdown",
      "source": [
        "## Model building essentials\n",
        "- `torch.nn` Contains all of the building blocks for computational graphs (a neural network can be considered a computational graph)\n",
        "\n",
        "- `torch.nn.Parameter` What parameters should our model try and learn, oftean a PyTorch layer from torch.nn will set these for us\n",
        "\n",
        "- `torch.nn.Module` The base class for all neural network modules, if you subclass it, you should overwrite forward()\n",
        "\n",
        "- `torch.optim` Where the optimizers in PyTorch live, they will help with gradient descent\n",
        "\n",
        "- `def forward()` All nn.Module subclasses require a forward() method, this defines the computation that will take place on the data passed to the particular nn.Module (e.g. the linear regression formula above)"
      ],
      "metadata": {
        "id": "7mgZhjUpLg8W"
      }
    },
    {
      "cell_type": "markdown",
      "source": [
        "## Checking contents of a PyTorch model\n",
        "\n",
        "`.parameters()`\n",
        "\n"
      ],
      "metadata": {
        "id": "pHCAEbYGlkSJ"
      }
    },
    {
      "cell_type": "code",
      "source": [
        "# create a random seed\n",
        "torch.manual_seed(42)\n",
        "\n",
        "# create an instance of the model\n",
        "model_0 = LinearRegressionModel()\n",
        "\n",
        "# check the parameters\n",
        "print(model_0, \"\\n\")\n",
        "print(model_0.parameters(), \"\\n\")\n",
        "print(list(model_0.parameters()))"
      ],
      "metadata": {
        "id": "gKhrniOGmIkH",
        "colab": {
          "base_uri": "https://localhost:8080/"
        },
        "outputId": "1e8a8ae9-3191-4d91-cccc-dcb3627be549"
      },
      "execution_count": 353,
      "outputs": [
        {
          "output_type": "stream",
          "name": "stdout",
          "text": [
            "LinearRegressionModel() \n",
            "\n",
            "<generator object Module.parameters at 0x7cc61b07fbc0> \n",
            "\n",
            "[Parameter containing:\n",
            "tensor([0.3367], requires_grad=True), Parameter containing:\n",
            "tensor([0.1288], requires_grad=True)]\n"
          ]
        }
      ]
    },
    {
      "cell_type": "code",
      "source": [
        "# list named parameters\n",
        "print(model_0.state_dict(), \"\\n\")\n",
        "print(weight, bias)"
      ],
      "metadata": {
        "colab": {
          "base_uri": "https://localhost:8080/"
        },
        "id": "qBCMTv-BoXbg",
        "outputId": "fc6715b8-6f91-458d-8185-82b217ae5545"
      },
      "execution_count": 354,
      "outputs": [
        {
          "output_type": "stream",
          "name": "stdout",
          "text": [
            "OrderedDict({'weight': tensor([0.3367]), 'bias': tensor([0.1288])}) \n",
            "\n",
            "0.7 0.3\n"
          ]
        }
      ]
    },
    {
      "cell_type": "markdown",
      "source": [
        "We would like our parameters to be as close as possible to the predefined ones...\n",
        "\n",
        "so...\n",
        "## Making predictions using `torch.inference_mode()`"
      ],
      "metadata": {
        "id": "TJ7rca3LpSJs"
      }
    },
    {
      "cell_type": "code",
      "source": [
        "X_test, y_test"
      ],
      "metadata": {
        "colab": {
          "base_uri": "https://localhost:8080/"
        },
        "id": "uZeP1WCsqGiw",
        "outputId": "6c542869-f17c-415e-901d-763f3a6cf985"
      },
      "execution_count": 355,
      "outputs": [
        {
          "output_type": "execute_result",
          "data": {
            "text/plain": [
              "(tensor([[0.8000],\n",
              "         [0.8200],\n",
              "         [0.8400],\n",
              "         [0.8600],\n",
              "         [0.8800],\n",
              "         [0.9000],\n",
              "         [0.9200],\n",
              "         [0.9400],\n",
              "         [0.9600],\n",
              "         [0.9800]]),\n",
              " tensor([[0.8600],\n",
              "         [0.8740],\n",
              "         [0.8880],\n",
              "         [0.9020],\n",
              "         [0.9160],\n",
              "         [0.9300],\n",
              "         [0.9440],\n",
              "         [0.9580],\n",
              "         [0.9720],\n",
              "         [0.9860]]))"
            ]
          },
          "metadata": {},
          "execution_count": 355
        }
      ]
    },
    {
      "cell_type": "code",
      "source": [
        "with torch.inference_mode():\n",
        "    y_preds = model_0(X_test)\n",
        "\n",
        "# also can be done similar with torch.no_grad() but torch.inference_mode() is preferred\n",
        "# with torch.no_grad():\n",
        "#     y_preds = model_0(X_test)\n",
        "\n",
        "y_preds"
      ],
      "metadata": {
        "colab": {
          "base_uri": "https://localhost:8080/"
        },
        "id": "EJDqNq_RqAzp",
        "outputId": "6b56f29e-051b-4461-d557-868cdc8cca69"
      },
      "execution_count": 356,
      "outputs": [
        {
          "output_type": "execute_result",
          "data": {
            "text/plain": [
              "tensor([[0.3982],\n",
              "        [0.4049],\n",
              "        [0.4116],\n",
              "        [0.4184],\n",
              "        [0.4251],\n",
              "        [0.4318],\n",
              "        [0.4386],\n",
              "        [0.4453],\n",
              "        [0.4520],\n",
              "        [0.4588]])"
            ]
          },
          "metadata": {},
          "execution_count": 356
        }
      ]
    },
    {
      "cell_type": "code",
      "source": [
        "plot_predictions(predictions=y_preds)"
      ],
      "metadata": {
        "colab": {
          "base_uri": "https://localhost:8080/",
          "height": 599
        },
        "id": "oa7GUBxAq5t3",
        "outputId": "8dc0b370-9d8c-4ed7-dc59-f8a304440a42"
      },
      "execution_count": 357,
      "outputs": [
        {
          "output_type": "display_data",
          "data": {
            "text/plain": [
              "<Figure size 1000x700 with 1 Axes>"
            ],
            "image/png": "[encoded data removed]"
          },
          "metadata": {}
        }
      ]
    },
    {
      "cell_type": "markdown",
      "source": [
        "# 3. Train a model\n",
        "Move from some unknown parameters (may be random) to some known parameters. In other words, poor representation of the data to a better representation\n",
        "\n",
        "One way to measure how poor or how wrong a model predictions are is to use a **loss function** (a. k. a. cost function or criterion in different areas),lower is better"
      ],
      "metadata": {
        "id": "HbzNnGxqYhXY"
      }
    },
    {
      "cell_type": "code",
      "source": [
        "list(model_0.parameters())\n",
        "model_0.state_dict()"
      ],
      "metadata": {
        "colab": {
          "base_uri": "https://localhost:8080/"
        },
        "id": "fkuxoqtrZkbd",
        "outputId": "fdc86f38-8377-4908-8f38-4c7b3f1a20df"
      },
      "execution_count": 358,
      "outputs": [
        {
          "output_type": "execute_result",
          "data": {
            "text/plain": [
              "OrderedDict([('weight', tensor([0.3367])), ('bias', tensor([0.1288]))])"
            ]
          },
          "metadata": {},
          "execution_count": 358
        }
      ]
    },
    {
      "cell_type": "code",
      "source": [
        "# setup a loss function\n",
        "loss_fn = nn.L1Loss() # MAE_loss is same as L1Loss\n",
        "\n",
        "# setup an optimizer\n",
        "optimizer = torch.optim.SGD(params=model_0.parameters(),\n",
        "                            lr=0.01) # learning rate (the most important hyperparameter)"
      ],
      "metadata": {
        "id": "oSy7zXvjd-82"
      },
      "execution_count": 359,
      "outputs": []
    },
    {
      "cell_type": "markdown",
      "source": [
        "## Building training and testing loops\n",
        "0. Loop through the data\n",
        "1. Forward pass to make predictions on data - also called forward propagation\n",
        "2. Calculate the loss (compare forward pass predictions to ground truth labels)\n",
        "3. Optimizer zero grad\n",
        "4. Loss backward - move backwards through the network to calculate the gradients of each of the parameters of our model with respect to the loss (**backpropagation**)\n",
        "5. Optimizer step - use the optimizer to adjust our model's parameters to try and improve the loss (**gradient descent**)"
      ],
      "metadata": {
        "id": "XK5wzx21fJBI"
      }
    },
    {
      "cell_type": "code",
      "source": [
        "# and epoch is one loop through the data\n",
        "epochs = 200\n",
        "\n",
        "# track different values\n",
        "epoch_count = []\n",
        "loss_values = []\n",
        "test_loss_values = []\n",
        "\n",
        "## Training\n",
        "# 0. Loop through the data\n",
        "for epoch in range(epochs):\n",
        "    # set the model to training mode\n",
        "    model_0.train() # sets all parameters that require gradients to require gradients\n",
        "\n",
        "    # 1. Forward pass\n",
        "    y_pred = model_0(X_train)\n",
        "\n",
        "    # 2. Calculate the loss\n",
        "    loss = loss_fn(y_pred, y_train)\n",
        "\n",
        "    # 3. Optimizer zero grad\n",
        "    optimizer.zero_grad()\n",
        "\n",
        "    # 4. Loss backward (perform backpropagation)\n",
        "    loss.backward()\n",
        "\n",
        "    # 5. Optimizer step (perform gradient descent)\n",
        "    optimizer.step()\n",
        "\n",
        "    ## Testing\n",
        "    model_0.eval() # turns off different settings in the model not needed for evaluation/testing\n",
        "    with torch.inference_mode(): # turns off gradient tracking\n",
        "        # 1. Do the forward pass\n",
        "        test_pred = model_0(X_test)\n",
        "\n",
        "        # 2. Calculate the loss\n",
        "        test_loss = loss_fn(test_pred, y_test)\n",
        "\n",
        "    if epoch % 10 == 0:\n",
        "        epoch_count.append(epoch)\n",
        "        loss_values.append(loss)\n",
        "        test_loss_values.append(test_loss)\n",
        "\n",
        "        print(f\"Epoch: {epoch}\")\n",
        "        print(f\"Loss: {loss}\")\n",
        "        print(f\"Test loss: {test_loss}\")\n",
        "        print(model_0.state_dict(),\"\\n\")"
      ],
      "metadata": {
        "colab": {
          "base_uri": "https://localhost:8080/"
        },
        "id": "snvptoL4gIdo",
        "outputId": "000d5025-d43f-441d-99b3-76d7e0abedd6"
      },
      "execution_count": 360,
      "outputs": [
        {
          "output_type": "stream",
          "name": "stdout",
          "text": [
            "Epoch: 0\n",
            "Loss: 0.31288138031959534\n",
            "Test loss: 0.48106518387794495\n",
            "OrderedDict({'weight': tensor([0.3406]), 'bias': tensor([0.1388])}) \n",
            "\n",
            "Epoch: 10\n",
            "Loss: 0.1976713240146637\n",
            "Test loss: 0.3463551998138428\n",
            "OrderedDict({'weight': tensor([0.3796]), 'bias': tensor([0.2388])}) \n",
            "\n",
            "Epoch: 20\n",
            "Loss: 0.08908725529909134\n",
            "Test loss: 0.21729660034179688\n",
            "OrderedDict({'weight': tensor([0.4184]), 'bias': tensor([0.3333])}) \n",
            "\n",
            "Epoch: 30\n",
            "Loss: 0.053148526698350906\n",
            "Test loss: 0.14464017748832703\n",
            "OrderedDict({'weight': tensor([0.4512]), 'bias': tensor([0.3768])}) \n",
            "\n",
            "Epoch: 40\n",
            "Loss: 0.04543796554207802\n",
            "Test loss: 0.11360953003168106\n",
            "OrderedDict({'weight': tensor([0.4748]), 'bias': tensor([0.3868])}) \n",
            "\n",
            "Epoch: 50\n",
            "Loss: 0.04167863354086876\n",
            "Test loss: 0.09919948130846024\n",
            "OrderedDict({'weight': tensor([0.4938]), 'bias': tensor([0.3843])}) \n",
            "\n",
            "Epoch: 60\n",
            "Loss: 0.03818932920694351\n",
            "Test loss: 0.08886633068323135\n",
            "OrderedDict({'weight': tensor([0.5116]), 'bias': tensor([0.3788])}) \n",
            "\n",
            "Epoch: 70\n",
            "Loss: 0.03476089984178543\n",
            "Test loss: 0.0805937647819519\n",
            "OrderedDict({'weight': tensor([0.5288]), 'bias': tensor([0.3718])}) \n",
            "\n",
            "Epoch: 80\n",
            "Loss: 0.03132382780313492\n",
            "Test loss: 0.07232122868299484\n",
            "OrderedDict({'weight': tensor([0.5459]), 'bias': tensor([0.3648])}) \n",
            "\n",
            "Epoch: 90\n",
            "Loss: 0.02788739837706089\n",
            "Test loss: 0.06473556160926819\n",
            "OrderedDict({'weight': tensor([0.5629]), 'bias': tensor([0.3573])}) \n",
            "\n",
            "Epoch: 100\n",
            "Loss: 0.024458957836031914\n",
            "Test loss: 0.05646304413676262\n",
            "OrderedDict({'weight': tensor([0.5800]), 'bias': tensor([0.3503])}) \n",
            "\n",
            "Epoch: 110\n",
            "Loss: 0.021020207554101944\n",
            "Test loss: 0.04819049686193466\n",
            "OrderedDict({'weight': tensor([0.5972]), 'bias': tensor([0.3433])}) \n",
            "\n",
            "Epoch: 120\n",
            "Loss: 0.01758546568453312\n",
            "Test loss: 0.04060482233762741\n",
            "OrderedDict({'weight': tensor([0.6141]), 'bias': tensor([0.3358])}) \n",
            "\n",
            "Epoch: 130\n",
            "Loss: 0.014155393466353416\n",
            "Test loss: 0.03233227878808975\n",
            "OrderedDict({'weight': tensor([0.6313]), 'bias': tensor([0.3288])}) \n",
            "\n",
            "Epoch: 140\n",
            "Loss: 0.010716589167714119\n",
            "Test loss: 0.024059748277068138\n",
            "OrderedDict({'weight': tensor([0.6485]), 'bias': tensor([0.3218])}) \n",
            "\n",
            "Epoch: 150\n",
            "Loss: 0.0072835334576666355\n",
            "Test loss: 0.016474086791276932\n",
            "OrderedDict({'weight': tensor([0.6654]), 'bias': tensor([0.3143])}) \n",
            "\n",
            "Epoch: 160\n",
            "Loss: 0.0038517764769494534\n",
            "Test loss: 0.008201557211577892\n",
            "OrderedDict({'weight': tensor([0.6826]), 'bias': tensor([0.3073])}) \n",
            "\n",
            "Epoch: 170\n",
            "Loss: 0.008932482451200485\n",
            "Test loss: 0.005023092031478882\n",
            "OrderedDict({'weight': tensor([0.6951]), 'bias': tensor([0.2993])}) \n",
            "\n",
            "Epoch: 180\n",
            "Loss: 0.008932482451200485\n",
            "Test loss: 0.005023092031478882\n",
            "OrderedDict({'weight': tensor([0.6951]), 'bias': tensor([0.2993])}) \n",
            "\n",
            "Epoch: 190\n",
            "Loss: 0.008932482451200485\n",
            "Test loss: 0.005023092031478882\n",
            "OrderedDict({'weight': tensor([0.6951]), 'bias': tensor([0.2993])}) \n",
            "\n"
          ]
        }
      ]
    },
    {
      "cell_type": "code",
      "source": [
        "# plot the loss curves\n",
        "plt.plot(epoch_count, np.array(torch.tensor(loss_values).numpy()), label=\"Train loss\")\n",
        "plt.plot(epoch_count, test_loss_values, label=\"Test loss\")\n",
        "plt.title(\"Training and test loss curves\")\n",
        "plt.ylabel(\"Loss\")\n",
        "plt.xlabel(\"Epoch\")\n",
        "plt.legend();"
      ],
      "metadata": {
        "colab": {
          "base_uri": "https://localhost:8080/",
          "height": 472
        },
        "id": "-wM9Tcu_v-Tb",
        "outputId": "18757f4e-0db9-438a-b6b5-2427fc873ede"
      },
      "execution_count": 361,
      "outputs": [
        {
          "output_type": "display_data",
          "data": {
            "text/plain": [
              "<Figure size 640x480 with 1 Axes>"
            ],
            "image/png": "[encoded data removed]"
          },
          "metadata": {}
        }
      ]
    },
    {
      "cell_type": "markdown",
      "source": [
        "# 4. Making predictions with a trained model"
      ],
      "metadata": {
        "id": "r_DmzH1TzcMa"
      }
    },
    {
      "cell_type": "code",
      "source": [
        "with torch.inference_mode():\n",
        "    y_preds_new = model_0(X_test)"
      ],
      "metadata": {
        "id": "6OO2IFL3kqeG"
      },
      "execution_count": 362,
      "outputs": []
    },
    {
      "cell_type": "code",
      "source": [
        "model_0.state_dict()"
      ],
      "metadata": {
        "colab": {
          "base_uri": "https://localhost:8080/"
        },
        "id": "zWi2BHuekzqp",
        "outputId": "61039683-4e7d-44d5-972d-a776995e5a3e"
      },
      "execution_count": 363,
      "outputs": [
        {
          "output_type": "execute_result",
          "data": {
            "text/plain": [
              "OrderedDict([('weight', tensor([0.6990])), ('bias', tensor([0.3093]))])"
            ]
          },
          "metadata": {},
          "execution_count": 363
        }
      ]
    },
    {
      "cell_type": "code",
      "source": [
        "weight, bias"
      ],
      "metadata": {
        "colab": {
          "base_uri": "https://localhost:8080/"
        },
        "id": "EFINfAq7ksZx",
        "outputId": "d4a38dd6-8545-4480-978f-667f96df8cce"
      },
      "execution_count": 364,
      "outputs": [
        {
          "output_type": "execute_result",
          "data": {
            "text/plain": [
              "(0.7, 0.3)"
            ]
          },
          "metadata": {},
          "execution_count": 364
        }
      ]
    },
    {
      "cell_type": "code",
      "source": [
        "plot_predictions(predictions=y_preds)"
      ],
      "metadata": {
        "colab": {
          "base_uri": "https://localhost:8080/",
          "height": 599
        },
        "id": "O9BEcllqk2Qj",
        "outputId": "27ad4550-2c3f-464b-abf3-9574bdf3686f"
      },
      "execution_count": 365,
      "outputs": [
        {
          "output_type": "display_data",
          "data": {
            "text/plain": [
              "<Figure size 1000x700 with 1 Axes>"
            ],
            "image/png": "[encoded data removed]"
          },
          "metadata": {}
        }
      ]
    },
    {
      "cell_type": "code",
      "source": [
        "plot_predictions(predictions=y_preds_new)"
      ],
      "metadata": {
        "colab": {
          "base_uri": "https://localhost:8080/",
          "height": 599
        },
        "id": "wPFkWmygoQkU",
        "outputId": "0371d06a-0e24-487d-aafa-464e3c583dc9"
      },
      "execution_count": 366,
      "outputs": [
        {
          "output_type": "display_data",
          "data": {
            "text/plain": [
              "<Figure size 1000x700 with 1 Axes>"
            ],
            "image/png": "[encoded data removed]"
          },
          "metadata": {}
        }
      ]
    },
    {
      "cell_type": "markdown",
      "source": [
        "# 5. Saving a model\n",
        "- `torch.save()` - save the object in Python's pickle format\n",
        "- `torch.load()` - load a saved object\n",
        "- `toch.nn.Module.load_state_dict()` - load a model's saved state dictionary"
      ],
      "metadata": {
        "id": "475MtxB-w5Cy"
      }
    },
    {
      "cell_type": "code",
      "source": [
        "from pathlib import Path\n",
        "\n",
        "# 1. Create models directory\n",
        "MODEL_PATH = Path(\"models\")\n",
        "MODEL_PATH.mkdir(parents=True, exist_ok=True)\n",
        "\n",
        "# 2. Create model save path\n",
        "MODEL_NAME = \"01_pytorch_workflow_model_0.pth\"\n",
        "MODEL_SAVE_PATH = MODEL_PATH / MODEL_NAME\n",
        "\n",
        "# 3. Save the model state dict\n",
        "print(f\"Saving model to: {MODEL_SAVE_PATH}\")\n",
        "torch.save(obj=model_0.state_dict(),\n",
        "           f=MODEL_SAVE_PATH)"
      ],
      "metadata": {
        "colab": {
          "base_uri": "https://localhost:8080/"
        },
        "id": "0QnUtl5JxbP_",
        "outputId": "143a2fcb-bb73-4f73-f93e-d791e0e95484"
      },
      "execution_count": 367,
      "outputs": [
        {
          "output_type": "stream",
          "name": "stdout",
          "text": [
            "Saving model to: models/01_pytorch_workflow_model_0.pth\n"
          ]
        }
      ]
    },
    {
      "cell_type": "code",
      "source": [
        "!ls -l models"
      ],
      "metadata": {
        "colab": {
          "base_uri": "https://localhost:8080/"
        },
        "id": "PgcTeerox_17",
        "outputId": "b2e9ef89-f0f2-4966-b7fc-351200834852"
      },
      "execution_count": 368,
      "outputs": [
        {
          "output_type": "stream",
          "name": "stdout",
          "text": [
            "total 8\n",
            "-rw-r--r-- 1 root root 2117 Oct  7 21:57 01_pytorch_workflow_model_0.pth\n",
            "-rw-r--r-- 1 root root 2181 Oct  7 21:56 01_pytorch_workflow_model_1.pth\n"
          ]
        }
      ]
    },
    {
      "cell_type": "code",
      "source": [
        "# loading a model\n",
        "loaded_model_0 = LinearRegressionModel()\n",
        "loaded_model_0.load_state_dict(torch.load(f=MODEL_SAVE_PATH))"
      ],
      "metadata": {
        "id": "wn6ZT3LJyHt_",
        "colab": {
          "base_uri": "https://localhost:8080/"
        },
        "outputId": "cfb6580d-048d-442d-8181-7a449e5f0d53"
      },
      "execution_count": 369,
      "outputs": [
        {
          "output_type": "execute_result",
          "data": {
            "text/plain": [
              "<All keys matched successfully>"
            ]
          },
          "metadata": {},
          "execution_count": 369
        }
      ]
    },
    {
      "cell_type": "code",
      "source": [
        "# make some predictions with loaded model\n",
        "loaded_model_0.eval()\n",
        "with torch.inference_mode():\n",
        "    loaded_model_preds = loaded_model_0(X_test)\n",
        "\n",
        "loaded_model_preds"
      ],
      "metadata": {
        "colab": {
          "base_uri": "https://localhost:8080/"
        },
        "id": "QBNifOE3yb4Y",
        "outputId": "f517f1ec-c7d1-4c34-e49b-008562136de5"
      },
      "execution_count": 370,
      "outputs": [
        {
          "output_type": "execute_result",
          "data": {
            "text/plain": [
              "tensor([[0.8685],\n",
              "        [0.8825],\n",
              "        [0.8965],\n",
              "        [0.9105],\n",
              "        [0.9245],\n",
              "        [0.9384],\n",
              "        [0.9524],\n",
              "        [0.9664],\n",
              "        [0.9804],\n",
              "        [0.9944]])"
            ]
          },
          "metadata": {},
          "execution_count": 370
        }
      ]
    },
    {
      "cell_type": "code",
      "source": [
        "# make some predictions with original model\n",
        "model_0.eval()\n",
        "with torch.inference_mode():\n",
        "    y_preds = loaded_model_0(X_test)\n",
        "\n",
        "loaded_model_preds"
      ],
      "metadata": {
        "colab": {
          "base_uri": "https://localhost:8080/"
        },
        "id": "Sj-N38m2yycP",
        "outputId": "c295e04a-3355-4178-9bd8-b68d21e47700"
      },
      "execution_count": 371,
      "outputs": [
        {
          "output_type": "execute_result",
          "data": {
            "text/plain": [
              "tensor([[0.8685],\n",
              "        [0.8825],\n",
              "        [0.8965],\n",
              "        [0.9105],\n",
              "        [0.9245],\n",
              "        [0.9384],\n",
              "        [0.9524],\n",
              "        [0.9664],\n",
              "        [0.9804],\n",
              "        [0.9944]])"
            ]
          },
          "metadata": {},
          "execution_count": 371
        }
      ]
    },
    {
      "cell_type": "code",
      "source": [
        "y_preds == loaded_model_preds"
      ],
      "metadata": {
        "colab": {
          "base_uri": "https://localhost:8080/"
        },
        "id": "ZLPdvD6-yh2X",
        "outputId": "82116e3b-23be-4db6-bf5c-f81a44e510c3"
      },
      "execution_count": 372,
      "outputs": [
        {
          "output_type": "execute_result",
          "data": {
            "text/plain": [
              "tensor([[True],\n",
              "        [True],\n",
              "        [True],\n",
              "        [True],\n",
              "        [True],\n",
              "        [True],\n",
              "        [True],\n",
              "        [True],\n",
              "        [True],\n",
              "        [True]])"
            ]
          },
          "metadata": {},
          "execution_count": 372
        }
      ]
    },
    {
      "cell_type": "markdown",
      "source": [
        "# 6. Putting it all together\n"
      ],
      "metadata": {
        "id": "4YmeXRKry_iM"
      }
    },
    {
      "cell_type": "code",
      "source": [
        "import torch\n",
        "from torch import nn\n",
        "import matplotlib.pyplot as plt\n",
        "\n",
        "torch.__version__"
      ],
      "metadata": {
        "colab": {
          "base_uri": "https://localhost:8080/",
          "height": 36
        },
        "id": "SmmhGKSKzvBR",
        "outputId": "039dbb95-1d1d-457c-dabb-528538438049"
      },
      "execution_count": 373,
      "outputs": [
        {
          "output_type": "execute_result",
          "data": {
            "text/plain": [
              "'2.8.0+cu126'"
            ],
            "application/vnd.google.colaboratory.intrinsic+json": {
              "type": "string"
            }
          },
          "metadata": {},
          "execution_count": 373
        }
      ]
    },
    {
      "cell_type": "code",
      "source": [
        "device = \"cuda\" if torch.cuda.is_available() else \"cpu\"\n",
        "print(f\"Using device: {device}\")"
      ],
      "metadata": {
        "colab": {
          "base_uri": "https://localhost:8080/"
        },
        "id": "8F5rOiwGz27l",
        "outputId": "fe70c12c-b63a-475d-e0ed-52659b35e5ff"
      },
      "execution_count": 374,
      "outputs": [
        {
          "output_type": "stream",
          "name": "stdout",
          "text": [
            "Using device: cpu\n"
          ]
        }
      ]
    },
    {
      "cell_type": "markdown",
      "source": [
        "## Data"
      ],
      "metadata": {
        "id": "pgxzDeJM0LTU"
      }
    },
    {
      "cell_type": "code",
      "source": [
        "weight = 0.7\n",
        "bias = 0.3\n",
        "\n",
        "start = 0\n",
        "end = 1\n",
        "step = 0.02\n",
        "\n",
        "X = torch.arange(start, end, step).unsqueeze(dim=1)\n",
        "y = weight * X + bias\n",
        "X[:10], y[:10]"
      ],
      "metadata": {
        "colab": {
          "base_uri": "https://localhost:8080/"
        },
        "id": "p0QlVoUm0MWH",
        "outputId": "d46d0426-eb7f-4680-8260-0d238eef5f20"
      },
      "execution_count": 375,
      "outputs": [
        {
          "output_type": "execute_result",
          "data": {
            "text/plain": [
              "(tensor([[0.0000],\n",
              "         [0.0200],\n",
              "         [0.0400],\n",
              "         [0.0600],\n",
              "         [0.0800],\n",
              "         [0.1000],\n",
              "         [0.1200],\n",
              "         [0.1400],\n",
              "         [0.1600],\n",
              "         [0.1800]]),\n",
              " tensor([[0.3000],\n",
              "         [0.3140],\n",
              "         [0.3280],\n",
              "         [0.3420],\n",
              "         [0.3560],\n",
              "         [0.3700],\n",
              "         [0.3840],\n",
              "         [0.3980],\n",
              "         [0.4120],\n",
              "         [0.4260]]))"
            ]
          },
          "metadata": {},
          "execution_count": 375
        }
      ]
    },
    {
      "cell_type": "code",
      "source": [
        "# split the data\n",
        "train_split = int(0.8 * len(X))\n",
        "X_train, y_train = X[:train_split], y[:train_split]\n",
        "X_test, y_test = X[train_split:], y[train_split:]\n",
        "len(X_train), len(y_train), len(X_test), len(y_test)"
      ],
      "metadata": {
        "colab": {
          "base_uri": "https://localhost:8080/"
        },
        "id": "JXRuhwg40gmo",
        "outputId": "0696cea8-1928-478f-f1aa-42e80289a5fb"
      },
      "execution_count": 376,
      "outputs": [
        {
          "output_type": "execute_result",
          "data": {
            "text/plain": [
              "(40, 40, 10, 10)"
            ]
          },
          "metadata": {},
          "execution_count": 376
        }
      ]
    },
    {
      "cell_type": "code",
      "source": [
        "# how might we better visualize our data?\n",
        "def plot_predictions(train_data=X_train,\n",
        "                     train_labels=y_train,\n",
        "                     test_data=X_test,\n",
        "                     test_labels=y_test,\n",
        "                     predictions=None):\n",
        "\n",
        "    plt.figure(figsize=(10, 7)) # plots training data, test data and compares predictions\n",
        "    plt.scatter(train_data, train_labels, c=\"b\", s=4, label=\"Training data\") # plot training data in blue\n",
        "    plt.scatter(test_data, test_labels, c=\"g\", s=4, label=\"Testing data\") # plot training data in green\n",
        "\n",
        "    if predictions is not None:\n",
        "        plt.scatter(test_data, predictions, c=\"r\", s=4, label=\"Predictions\") # plot predictions in red (if they exist)\n",
        "\n",
        "    plt.legend(prop={\"size\": 14}) # show the legend"
      ],
      "metadata": {
        "id": "lNEbAoYU0_TN"
      },
      "execution_count": 377,
      "outputs": []
    },
    {
      "cell_type": "code",
      "source": [
        "# plot the data\n",
        "plot_predictions(X_train, y_train, X_test, y_test)"
      ],
      "metadata": {
        "colab": {
          "base_uri": "https://localhost:8080/",
          "height": 599
        },
        "id": "obwfZEou0qsO",
        "outputId": "f6a1f1d2-aa16-482b-912a-ccaa285a3c96"
      },
      "execution_count": 378,
      "outputs": [
        {
          "output_type": "display_data",
          "data": {
            "text/plain": [
              "<Figure size 1000x700 with 1 Axes>"
            ],
            "image/png": "[encoded data removed]"
          },
          "metadata": {}
        }
      ]
    },
    {
      "cell_type": "markdown",
      "source": [
        "## Building a Linear model"
      ],
      "metadata": {
        "id": "pdH8XQXy1HRv"
      }
    },
    {
      "cell_type": "code",
      "source": [
        "class LinearRegressionModelV2(nn.Module):\n",
        "    def __init__(self):\n",
        "        super().__init__()\n",
        "        self.linear_layer = nn.Linear(in_features=1,\n",
        "                                      out_features=1)\n",
        "        # use nn.Linear() for creating the model parameters\n",
        "        self.linear_layer = nn.Linear(in_features=1,\n",
        "                                      out_features=1)\n",
        "    def forward(self, x: torch.Tensor) -> torch.Tensor:\n",
        "        return self.linear_layer(x)\n",
        "\n",
        "torch.manual_seed(42)\n",
        "model_1 = LinearRegressionModelV2()\n",
        "model_1, model_1.state_dict()"
      ],
      "metadata": {
        "colab": {
          "base_uri": "https://localhost:8080/"
        },
        "id": "rzi4XoYx1Ssm",
        "outputId": "cdb0d005-1547-4d9d-9058-c58f0d2fc01e"
      },
      "execution_count": 379,
      "outputs": [
        {
          "output_type": "execute_result",
          "data": {
            "text/plain": [
              "(LinearRegressionModelV2(\n",
              "   (linear_layer): Linear(in_features=1, out_features=1, bias=True)\n",
              " ),\n",
              " OrderedDict([('linear_layer.weight', tensor([[-0.2343]])),\n",
              "              ('linear_layer.bias', tensor([0.9186]))]))"
            ]
          },
          "metadata": {},
          "execution_count": 379
        }
      ]
    },
    {
      "cell_type": "code",
      "source": [
        "next(model_1.parameters()).device"
      ],
      "metadata": {
        "colab": {
          "base_uri": "https://localhost:8080/"
        },
        "id": "NUPE7SlU2CJf",
        "outputId": "d8e976c5-19f0-48f1-a3b4-5353458e57ff"
      },
      "execution_count": 380,
      "outputs": [
        {
          "output_type": "execute_result",
          "data": {
            "text/plain": [
              "device(type='cpu')"
            ]
          },
          "metadata": {},
          "execution_count": 380
        }
      ]
    },
    {
      "cell_type": "code",
      "source": [
        "# set the model to use the target device\n",
        "model_1.to(device)\n",
        "next(model_1.parameters()).device"
      ],
      "metadata": {
        "id": "hJyrplzG2Fyb",
        "colab": {
          "base_uri": "https://localhost:8080/"
        },
        "outputId": "165384aa-c543-4b0f-a1a8-4c50a3ff57ef"
      },
      "execution_count": 381,
      "outputs": [
        {
          "output_type": "execute_result",
          "data": {
            "text/plain": [
              "device(type='cpu')"
            ]
          },
          "metadata": {},
          "execution_count": 381
        }
      ]
    },
    {
      "cell_type": "markdown",
      "source": [
        "## Training\n",
        "- Loss function\n",
        "- Optimizer\n",
        "- Training loop\n",
        "- Testing loop"
      ],
      "metadata": {
        "id": "yFUIKrRp2LR4"
      }
    },
    {
      "cell_type": "code",
      "source": [
        "# setup loss function\n",
        "loss_fn = nn.L1Loss()\n",
        "\n",
        "# setup optimizer\n",
        "optimizer = torch.optim.SGD(params=model_1.parameters(),\n",
        "                            lr=0.01)"
      ],
      "metadata": {
        "id": "WhY-fKOd2Nse"
      },
      "execution_count": 382,
      "outputs": []
    },
    {
      "cell_type": "code",
      "source": [
        "torch.manual_seed(42)\n",
        "epochs = 200\n",
        "\n",
        "# put data on the target device\n",
        "X_train = X_train.to(device)\n",
        "y_train = y_train.to(device)\n",
        "X_test = X_test.to(device)\n",
        "y_test = y_test.to(device)\n",
        "\n",
        "## Training\n",
        "for epoch in range(epochs):\n",
        "    model_1.train()\n",
        "\n",
        "    # 1. Forward pass\n",
        "    y_pred = model_1(X_train)\n",
        "\n",
        "    # 2. Calculate the loss\n",
        "    loss = loss_fn(y_pred, y_train)\n",
        "\n",
        "    # 3. Optimizer zero grad\n",
        "    optimizer.zero_grad()\n",
        "\n",
        "    # 4. Performs backpropagation\n",
        "    loss.backward()\n",
        "\n",
        "    # 5. Optimizer step\n",
        "    optimizer.step()\n",
        "\n",
        "    ## Testing\n",
        "    model_1.eval()\n",
        "    with torch.inference_mode():\n",
        "        test_pred = model_1(X_test)\n",
        "        test_loss = loss_fn(test_pred, y_test)\n",
        "\n",
        "    if epoch % 10 == 0:\n",
        "        print(f\"Epoch: {epoch} | Loss: {loss} | Test loss: {test_loss}\")"
      ],
      "metadata": {
        "colab": {
          "base_uri": "https://localhost:8080/"
        },
        "id": "VSxX_eTY2X6r",
        "outputId": "91630884-8208-4462-a777-a38c91e4423d"
      },
      "execution_count": 395,
      "outputs": [
        {
          "output_type": "stream",
          "name": "stdout",
          "text": [
            "Epoch: 0 | Loss: 0.06856837123632431 | Test loss: 0.15943877398967743\n",
            "Epoch: 10 | Loss: 0.06513068079948425 | Test loss: 0.15185311436653137\n",
            "Epoch: 20 | Loss: 0.061702240258455276 | Test loss: 0.1435805857181549\n",
            "Epoch: 30 | Loss: 0.058264754712581635 | Test loss: 0.13530804216861725\n",
            "Epoch: 40 | Loss: 0.054828744381666183 | Test loss: 0.1277223527431488\n",
            "Epoch: 50 | Loss: 0.05139993876218796 | Test loss: 0.11944983154535294\n",
            "Epoch: 60 | Loss: 0.04796113446354866 | Test loss: 0.11117730289697647\n",
            "Epoch: 70 | Loss: 0.04452681168913841 | Test loss: 0.10359163582324982\n",
            "Epoch: 80 | Loss: 0.04109632223844528 | Test loss: 0.09531907737255096\n",
            "Epoch: 90 | Loss: 0.037657514214515686 | Test loss: 0.0870465412735939\n",
            "Epoch: 100 | Loss: 0.03422488644719124 | Test loss: 0.07946088165044785\n",
            "Epoch: 110 | Loss: 0.030792707577347755 | Test loss: 0.07118834555149078\n",
            "Epoch: 120 | Loss: 0.027353893965482712 | Test loss: 0.06291580945253372\n",
            "Epoch: 130 | Loss: 0.02392295002937317 | Test loss: 0.055330146104097366\n",
            "Epoch: 140 | Loss: 0.020489079877734184 | Test loss: 0.047057606279850006\n",
            "Epoch: 150 | Loss: 0.017050277441740036 | Test loss: 0.038785047829151154\n",
            "Epoch: 160 | Loss: 0.013621020130813122 | Test loss: 0.03119940124452114\n",
            "Epoch: 170 | Loss: 0.01018545962870121 | Test loss: 0.022926848381757736\n",
            "Epoch: 180 | Loss: 0.006747526582330465 | Test loss: 0.015341198071837425\n",
            "Epoch: 190 | Loss: 0.0033190876711159945 | Test loss: 0.007068657781928778\n"
          ]
        }
      ]
    },
    {
      "cell_type": "code",
      "source": [
        "model_1.state_dict()\n",
        "weight, bias"
      ],
      "metadata": {
        "colab": {
          "base_uri": "https://localhost:8080/"
        },
        "id": "n-bywiiH3AC-",
        "outputId": "8b10c5e6-41e1-4f6f-a751-a6e4ddab6b73"
      },
      "execution_count": 384,
      "outputs": [
        {
          "output_type": "execute_result",
          "data": {
            "text/plain": [
              "(0.7, 0.3)"
            ]
          },
          "metadata": {},
          "execution_count": 384
        }
      ]
    },
    {
      "cell_type": "markdown",
      "source": [
        "## Making and evaluating predictions"
      ],
      "metadata": {
        "id": "A0fIdb7y3KpH"
      }
    },
    {
      "cell_type": "code",
      "source": [
        "# turn model into evaluation mode\n",
        "model_1.eval()\n",
        "\n",
        "# make predictions on the test data\n",
        "with torch.inference_mode():\n",
        "    y_preds = model_1(X_test)\n",
        "\n",
        "y_preds"
      ],
      "metadata": {
        "colab": {
          "base_uri": "https://localhost:8080/"
        },
        "id": "wYKBfHra3OLm",
        "outputId": "56bb8139-2791-4981-efed-3b3acd3281c9"
      },
      "execution_count": 396,
      "outputs": [
        {
          "output_type": "execute_result",
          "data": {
            "text/plain": [
              "tensor([[0.8679],\n",
              "        [0.8819],\n",
              "        [0.8959],\n",
              "        [0.9098],\n",
              "        [0.9238],\n",
              "        [0.9378],\n",
              "        [0.9517],\n",
              "        [0.9657],\n",
              "        [0.9797],\n",
              "        [0.9937]])"
            ]
          },
          "metadata": {},
          "execution_count": 396
        }
      ]
    },
    {
      "cell_type": "code",
      "source": [
        "plot_predictions(predictions=y_preds.cpu())"
      ],
      "metadata": {
        "colab": {
          "base_uri": "https://localhost:8080/",
          "height": 599
        },
        "id": "j6DW-k_f3WyM",
        "outputId": "37c84ce6-5b5c-4ceb-9396-38cf4a2a7aff"
      },
      "execution_count": 397,
      "outputs": [
        {
          "output_type": "display_data",
          "data": {
            "text/plain": [
              "<Figure size 1000x700 with 1 Axes>"
            ],
            "image/png": "[encoded data removed]"
          },
          "metadata": {}
        }
      ]
    },
    {
      "cell_type": "markdown",
      "source": [
        "## Saving and loading a trained model"
      ],
      "metadata": {
        "id": "sixT6TMiqK9O"
      }
    },
    {
      "cell_type": "code",
      "source": [
        "from pathlib import Path\n",
        "\n",
        "MODEL_PATH = Path(\"models\")\n",
        "MODEL_PATH.mkdir(parents=True, exist_ok=True)\n",
        "\n",
        "MODEL_NAME = \"01_pytorch_workflow_model_1.pth\"\n",
        "MODEL_SAVE_PATH = MODEL_PATH / MODEL_NAME\n",
        "\n",
        "print(f\"Saving model to: {MODEL_SAVE_PATH}\")\n",
        "torch.save(obj=model_1.state_dict(),\n",
        "           f=MODEL_SAVE_PATH)"
      ],
      "metadata": {
        "colab": {
          "base_uri": "https://localhost:8080/"
        },
        "id": "NOg5jAzcqXtv",
        "outputId": "2fbd8e39-54d2-473d-f010-b98ddc5af6eb"
      },
      "execution_count": 387,
      "outputs": [
        {
          "output_type": "stream",
          "name": "stdout",
          "text": [
            "Saving model to: models/01_pytorch_workflow_model_1.pth\n"
          ]
        }
      ]
    },
    {
      "cell_type": "code",
      "source": [
        "model_1.state_dict()"
      ],
      "metadata": {
        "colab": {
          "base_uri": "https://localhost:8080/"
        },
        "id": "oiT5Hixcq7sW",
        "outputId": "a30e8c30-1b0d-4754-cd74-360cc51fc755"
      },
      "execution_count": 388,
      "outputs": [
        {
          "output_type": "execute_result",
          "data": {
            "text/plain": [
              "OrderedDict([('linear_layer.weight', tensor([[0.0171]])),\n",
              "             ('linear_layer.bias', tensor([0.5866]))])"
            ]
          },
          "metadata": {},
          "execution_count": 388
        }
      ]
    },
    {
      "cell_type": "code",
      "source": [
        "loaded_model_1 = LinearRegressionModelV2()\n",
        "loaded_model_1.load_state_dict(torch.load(f=MODEL_SAVE_PATH))\n",
        "loaded_model_1.to(device)"
      ],
      "metadata": {
        "colab": {
          "base_uri": "https://localhost:8080/"
        },
        "id": "_goY1IyWq9Rs",
        "outputId": "05dd2ea0-b368-41bc-b634-7b0da71c6d51"
      },
      "execution_count": 389,
      "outputs": [
        {
          "output_type": "execute_result",
          "data": {
            "text/plain": [
              "LinearRegressionModelV2(\n",
              "  (linear_layer): Linear(in_features=1, out_features=1, bias=True)\n",
              ")"
            ]
          },
          "metadata": {},
          "execution_count": 389
        }
      ]
    },
    {
      "cell_type": "code",
      "source": [
        "next(loaded_model_1.parameters()).device"
      ],
      "metadata": {
        "colab": {
          "base_uri": "https://localhost:8080/"
        },
        "id": "6Oh_Beh5rOPi",
        "outputId": "214c26b5-075f-445a-f14c-7e7c637b2bbe"
      },
      "execution_count": 390,
      "outputs": [
        {
          "output_type": "execute_result",
          "data": {
            "text/plain": [
              "device(type='cpu')"
            ]
          },
          "metadata": {},
          "execution_count": 390
        }
      ]
    },
    {
      "cell_type": "code",
      "source": [
        "loaded_model_1.eval()\n",
        "with torch.inference_mode():\n",
        "    loaded_model_1_preds = loaded_model_1(X_test)\n",
        "\n",
        "y_preds == loaded_model_1_preds"
      ],
      "metadata": {
        "colab": {
          "base_uri": "https://localhost:8080/"
        },
        "id": "aNRUfwxbraY5",
        "outputId": "4f13d840-fa90-4624-facc-4521b93c8fe4"
      },
      "execution_count": 391,
      "outputs": [
        {
          "output_type": "execute_result",
          "data": {
            "text/plain": [
              "tensor([[True],\n",
              "        [True],\n",
              "        [True],\n",
              "        [True],\n",
              "        [True],\n",
              "        [True],\n",
              "        [True],\n",
              "        [True],\n",
              "        [True],\n",
              "        [True]])"
            ]
          },
          "metadata": {},
          "execution_count": 391
        }
      ]
    }
  ],
  "metadata": {
    "colab": {
      "toc_visible": true,
      "provenance": [],
      "include_colab_link": true
    },
    "kernelspec": {
      "display_name": "Python 3",
      "name": "python3"
    },
    "language_info": {
      "name": "python"
    }
  },
  "nbformat": 4,
  "nbformat_minor": 0
}