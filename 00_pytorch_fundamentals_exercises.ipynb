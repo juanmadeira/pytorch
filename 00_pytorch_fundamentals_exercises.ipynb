{
  "nbformat": 4,
  "nbformat_minor": 0,
  "metadata": {
    "colab": {
      "provenance": [],
      "authorship_tag": "ABX9TyPtICzqvy6k/bc/BrYEK9ID",
      "include_colab_link": true
    },
    "kernelspec": {
      "name": "python3",
      "display_name": "Python 3"
    },
    "language_info": {
      "name": "python"
    }
  },
  "cells": [
    {
      "cell_type": "markdown",
      "metadata": {
        "id": "view-in-github",
        "colab_type": "text"
      },
      "source": [
        "<a href=\"https://colab.research.google.com/github/juanmadeira/pytorch/blob/main/00_pytorch_fundamentals_exercises.ipynb\" target=\"_parent\"><img src=\"https://colab.research.google.com/assets/colab-badge.svg\" alt=\"Open In Colab\"/></a>"
      ]
    },
    {
      "cell_type": "markdown",
      "source": [
        "> 1. Documentation reading."
      ],
      "metadata": {
        "id": "PfiSuZoowzC7"
      }
    },
    {
      "cell_type": "markdown",
      "source": [
        "> 2. Create a random tensor with shape (7, 7)."
      ],
      "metadata": {
        "id": "M_YPYai3vwKD"
      }
    },
    {
      "cell_type": "markdown",
      "source": [
        "> 3. Perform a matrix multiplication on the tensor from 2 with another random tensor with shape (1, 7) (hint: you may have to transpose the second tensor)."
      ],
      "metadata": {
        "id": "fSt1q152wh09"
      }
    },
    {
      "cell_type": "markdown",
      "source": [
        "> 4. Set the random seed to 0 and do exercises 2 & 3 over again."
      ],
      "metadata": {
        "id": "7c1gvGIKwpWR"
      }
    },
    {
      "cell_type": "markdown",
      "source": [
        "> 5. Speaking of random seeds, we saw how to set it with torch.manual_seed() but is there a GPU equivalent? (hint: you'll need to look into the documentation for torch.cuda for this one). If there is, set the GPU random seed to 1234."
      ],
      "metadata": {
        "id": "nGCqHDDowqvp"
      }
    },
    {
      "cell_type": "markdown",
      "source": [
        "> 6. Create two random tensors of shape (2, 3) and send them both to the GPU (you'll need access to a GPU for this). Set torch.manual_seed(1234) when creating the tensors (this doesn't have to be the GPU random seed)."
      ],
      "metadata": {
        "id": "W3DU0sn0wsui"
      }
    },
    {
      "cell_type": "markdown",
      "source": [
        "> 7. Perform a matrix multiplication on the tensors you created in 6 (again, you may have to adjust the shapes of one of the tensors)."
      ],
      "metadata": {
        "id": "byGU3V1Hw4ZO"
      }
    },
    {
      "cell_type": "markdown",
      "source": [
        "> 8. Find the maximum and minimum values of the output of 7."
      ],
      "metadata": {
        "id": "wvHaTLAMw5_j"
      }
    },
    {
      "cell_type": "markdown",
      "source": [
        "> 9. Find the maximum and minimum index values of the output of 7."
      ],
      "metadata": {
        "id": "ez-V6HYjw7ZJ"
      }
    },
    {
      "cell_type": "markdown",
      "source": [
        "> 10. Make a random tensor with shape (1, 1, 1, 10) and then create a new tensor with all the 1 dimensions removed to be left with a tensor of shape (10). Set the seed to 7 when you create it and print out the first tensor and it's shape as well as the second tensor and it's shape."
      ],
      "metadata": {
        "id": "32t7jlBBw8lC"
      }
    }
  ]
}