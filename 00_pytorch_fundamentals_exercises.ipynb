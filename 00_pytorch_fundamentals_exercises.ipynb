{
  "nbformat": 4,
  "nbformat_minor": 0,
  "metadata": {
    "colab": {
      "provenance": [],
      "gpuType": "T4",
      "authorship_tag": "ABX9TyNOO7JcFLWWVf/Y8kMnPWoY",
      "include_colab_link": true
    },
    "kernelspec": {
      "name": "python3",
      "display_name": "Python 3"
    },
    "language_info": {
      "name": "python"
    },
    "accelerator": "GPU"
  },
  "cells": [
    {
      "cell_type": "markdown",
      "metadata": {
        "id": "view-in-github",
        "colab_type": "text"
      },
      "source": [
        "<a href=\"https://colab.research.google.com/github/juanmadeira/pytorch/blob/main/00_pytorch_fundamentals_exercises.ipynb\" target=\"_parent\"><img src=\"https://colab.research.google.com/assets/colab-badge.svg\" alt=\"Open In Colab\"/></a>"
      ]
    },
    {
      "cell_type": "markdown",
      "source": [
        "> 1. Documentation reading."
      ],
      "metadata": {
        "id": "PfiSuZoowzC7"
      }
    },
    {
      "cell_type": "code",
      "source": [
        "import torch"
      ],
      "metadata": {
        "id": "J5M7OjBkmXbW"
      },
      "execution_count": 85,
      "outputs": []
    },
    {
      "cell_type": "markdown",
      "source": [
        "> 2. Create a random tensor with shape (7, 7)."
      ],
      "metadata": {
        "id": "M_YPYai3vwKD"
      }
    },
    {
      "cell_type": "code",
      "source": [
        "tensor1 = torch.rand(size=(7, 7))\n",
        "print(f\"{tensor1}\\n\\n{tensor1.shape}\")"
      ],
      "metadata": {
        "colab": {
          "base_uri": "https://localhost:8080/"
        },
        "id": "XhzC9eoFmVV1",
        "outputId": "99e3d31e-1cee-4378-f2b7-692daf98b5ed"
      },
      "execution_count": 86,
      "outputs": [
        {
          "output_type": "stream",
          "name": "stdout",
          "text": [
            "tensor([[0.8549, 0.5509, 0.2868, 0.2063, 0.4451, 0.3593, 0.7204],\n",
            "        [0.0731, 0.9699, 0.1078, 0.8829, 0.4132, 0.7572, 0.6948],\n",
            "        [0.5209, 0.5932, 0.8797, 0.6286, 0.7653, 0.1132, 0.8559],\n",
            "        [0.6721, 0.6267, 0.5691, 0.7437, 0.9592, 0.3887, 0.2214],\n",
            "        [0.3742, 0.1953, 0.7405, 0.2529, 0.2332, 0.9314, 0.9575],\n",
            "        [0.5575, 0.4134, 0.4355, 0.7369, 0.0331, 0.0914, 0.8994],\n",
            "        [0.9936, 0.4703, 0.1049, 0.5137, 0.2674, 0.4990, 0.7447]])\n",
            "\n",
            "torch.Size([7, 7])\n"
          ]
        }
      ]
    },
    {
      "cell_type": "markdown",
      "source": [
        "> 3. Perform a matrix multiplication on the tensor from 2 with another random tensor with shape (1, 7) (hint: you may have to transpose the second tensor)."
      ],
      "metadata": {
        "id": "fSt1q152wh09"
      }
    },
    {
      "cell_type": "code",
      "source": [
        "tensor2 = torch.rand(size=(1, 7))\n",
        "tensor2 = tensor2.T # transposing second tensor\n",
        "\n",
        "torch.matmul(tensor1, tensor2)"
      ],
      "metadata": {
        "colab": {
          "base_uri": "https://localhost:8080/"
        },
        "id": "tVSmgJKXnXQ3",
        "outputId": "a8e743a7-3b37-4103-adbb-2bcb6032a47f"
      },
      "execution_count": 87,
      "outputs": [
        {
          "output_type": "execute_result",
          "data": {
            "text/plain": [
              "tensor([[1.6914],\n",
              "        [1.7581],\n",
              "        [2.0906],\n",
              "        [1.8975],\n",
              "        [1.7585],\n",
              "        [1.7961],\n",
              "        [1.8900]])"
            ]
          },
          "metadata": {},
          "execution_count": 87
        }
      ]
    },
    {
      "cell_type": "markdown",
      "source": [
        "> 4. Set the random seed to 0 and do exercises 2 & 3 over again."
      ],
      "metadata": {
        "id": "7c1gvGIKwpWR"
      }
    },
    {
      "cell_type": "code",
      "source": [
        "RANDOM_SEED = 0\n",
        "torch.manual_seed(RANDOM_SEED)\n",
        "tensor1 = torch.rand(size=(7,7))\n",
        "torch.manual_seed(RANDOM_SEED)\n",
        "tensor2 = torch.rand(size=(1,7))\n",
        "tensor2 = tensor2.T\n",
        "\n",
        "torch.matmul(tensor1, tensor2)"
      ],
      "metadata": {
        "colab": {
          "base_uri": "https://localhost:8080/"
        },
        "id": "yus3fncaoAKX",
        "outputId": "5802e525-702e-4e51-9c48-d3ce886f4f96"
      },
      "execution_count": 88,
      "outputs": [
        {
          "output_type": "execute_result",
          "data": {
            "text/plain": [
              "tensor([[1.5985],\n",
              "        [1.1173],\n",
              "        [1.2741],\n",
              "        [1.6838],\n",
              "        [0.8279],\n",
              "        [1.0347],\n",
              "        [1.2498]])"
            ]
          },
          "metadata": {},
          "execution_count": 88
        }
      ]
    },
    {
      "cell_type": "markdown",
      "source": [
        "> 5. Speaking of random seeds, we saw how to set it with torch.manual_seed() but is there a GPU equivalent? (hint: you'll need to look into the documentation for torch.cuda for this one). If there is, set the GPU random seed to 1234."
      ],
      "metadata": {
        "id": "nGCqHDDowqvp"
      }
    },
    {
      "cell_type": "code",
      "source": [
        "print(f\"GPU access: {torch.cuda.is_available()}\")\n",
        "device = \"cuda\" if torch.cuda.is_available() else \"cpu\"\n",
        "\n",
        "torch.cuda.manual_seed(1234)"
      ],
      "metadata": {
        "colab": {
          "base_uri": "https://localhost:8080/"
        },
        "id": "_w4HywAHoznz",
        "outputId": "6d01e6ca-e85c-4043-f54e-1753313b0b15"
      },
      "execution_count": 89,
      "outputs": [
        {
          "output_type": "stream",
          "name": "stdout",
          "text": [
            "GPU access: True\n"
          ]
        }
      ]
    },
    {
      "cell_type": "markdown",
      "source": [
        "> 6. Create two random tensors of shape (2, 3) and send them both to the GPU (you'll need access to a GPU for this). Set torch.manual_seed(1234) when creating the tensors (this doesn't have to be the GPU random seed)."
      ],
      "metadata": {
        "id": "W3DU0sn0wsui"
      }
    },
    {
      "cell_type": "code",
      "source": [
        "torch.manual_seed(1234)\n",
        "tensor1 = torch.rand(size=(2, 3))\n",
        "torch.manual_seed(1234)\n",
        "tensor2 = torch.rand(size=(2, 3))\n",
        "\n",
        "tensor1 = tensor1.to(device)\n",
        "tensor2 = tensor2.to(device)\n",
        "\n",
        "print(f\"{tensor1}\\n\\n{tensor1.shape}\\n\\n\")\n",
        "print(f\"{tensor2}\\n\\n{tensor2.shape}\")"
      ],
      "metadata": {
        "colab": {
          "base_uri": "https://localhost:8080/"
        },
        "id": "vINeTsqgppWl",
        "outputId": "b67429bd-c055-4ab4-a529-3df2dd21b77a"
      },
      "execution_count": 90,
      "outputs": [
        {
          "output_type": "stream",
          "name": "stdout",
          "text": [
            "tensor([[0.0290, 0.4019, 0.2598],\n",
            "        [0.3666, 0.0583, 0.7006]], device='cuda:0')\n",
            "\n",
            "torch.Size([2, 3])\n",
            "\n",
            "\n",
            "tensor([[0.0290, 0.4019, 0.2598],\n",
            "        [0.3666, 0.0583, 0.7006]], device='cuda:0')\n",
            "\n",
            "torch.Size([2, 3])\n"
          ]
        }
      ]
    },
    {
      "cell_type": "markdown",
      "source": [
        "> 7. Perform a matrix multiplication on the tensors you created in 6 (again, you may have to adjust the shapes of one of the tensors)."
      ],
      "metadata": {
        "id": "byGU3V1Hw4ZO"
      }
    },
    {
      "cell_type": "code",
      "source": [
        "tensor2 = tensor2.T\n",
        "\n",
        "result = torch.matmul(tensor1, tensor2)\n",
        "print(f\"{result}\\n\\n{result.shape}\")"
      ],
      "metadata": {
        "colab": {
          "base_uri": "https://localhost:8080/"
        },
        "id": "LKarNyeDqPr8",
        "outputId": "8762cef3-25fc-4cb9-8538-2d582a625a5a"
      },
      "execution_count": 91,
      "outputs": [
        {
          "output_type": "stream",
          "name": "stdout",
          "text": [
            "tensor([[0.2299, 0.2161],\n",
            "        [0.2161, 0.6287]], device='cuda:0')\n",
            "\n",
            "torch.Size([2, 2])\n"
          ]
        }
      ]
    },
    {
      "cell_type": "markdown",
      "source": [
        "> 8. Find the maximum and minimum values of the output of 7."
      ],
      "metadata": {
        "id": "wvHaTLAMw5_j"
      }
    },
    {
      "cell_type": "code",
      "source": [
        "result.max(), result.min()"
      ],
      "metadata": {
        "colab": {
          "base_uri": "https://localhost:8080/"
        },
        "id": "SV58aWYJuN2t",
        "outputId": "0592f409-9609-421f-b4e7-de45e63644d5"
      },
      "execution_count": 92,
      "outputs": [
        {
          "output_type": "execute_result",
          "data": {
            "text/plain": [
              "(tensor(0.6287, device='cuda:0'), tensor(0.2161, device='cuda:0'))"
            ]
          },
          "metadata": {},
          "execution_count": 92
        }
      ]
    },
    {
      "cell_type": "markdown",
      "source": [
        "> 9. Find the maximum and minimum index values of the output of 7."
      ],
      "metadata": {
        "id": "ez-V6HYjw7ZJ"
      }
    },
    {
      "cell_type": "code",
      "source": [
        "result.argmax(), result.argmin()"
      ],
      "metadata": {
        "colab": {
          "base_uri": "https://localhost:8080/"
        },
        "id": "4NePPxs1upQz",
        "outputId": "a0683636-75ab-4a93-e9a9-74e69cd17ea9"
      },
      "execution_count": 93,
      "outputs": [
        {
          "output_type": "execute_result",
          "data": {
            "text/plain": [
              "(tensor(3, device='cuda:0'), tensor(1, device='cuda:0'))"
            ]
          },
          "metadata": {},
          "execution_count": 93
        }
      ]
    },
    {
      "cell_type": "markdown",
      "source": [
        "> 10. Make a random tensor with shape (1, 1, 1, 10) and then create a new tensor with all the 1 dimensions removed to be left with a tensor of shape (10). Set the seed to 7 when you create it and print out the first tensor and it's shape as well as the second tensor and it's shape."
      ],
      "metadata": {
        "id": "32t7jlBBw8lC"
      }
    },
    {
      "cell_type": "code",
      "source": [
        "RANDOM_SEED = 7\n",
        "torch.manual_seed(RANDOM_SEED)\n",
        "tensor1 = torch.rand(size=(1, 1, 1, 10))\n",
        "tensor2 = tensor1.squeeze()\n",
        "\n",
        "print(f\"{tensor1}\\n\\n{tensor1.shape}\\n\\n\")\n",
        "print(f\"{tensor2}\\n\\n{tensor2.shape}\")"
      ],
      "metadata": {
        "colab": {
          "base_uri": "https://localhost:8080/"
        },
        "id": "BrrMeE_su4V6",
        "outputId": "3c1de4e9-1b44-4bae-a2da-551e270b58b9"
      },
      "execution_count": 94,
      "outputs": [
        {
          "output_type": "stream",
          "name": "stdout",
          "text": [
            "tensor([[[[0.5349, 0.1988, 0.6592, 0.6569, 0.2328, 0.4251, 0.2071, 0.6297,\n",
            "           0.3653, 0.8513]]]])\n",
            "\n",
            "torch.Size([1, 1, 1, 10])\n",
            "\n",
            "\n",
            "tensor([0.5349, 0.1988, 0.6592, 0.6569, 0.2328, 0.4251, 0.2071, 0.6297, 0.3653,\n",
            "        0.8513])\n",
            "\n",
            "torch.Size([10])\n"
          ]
        }
      ]
    }
  ]
}